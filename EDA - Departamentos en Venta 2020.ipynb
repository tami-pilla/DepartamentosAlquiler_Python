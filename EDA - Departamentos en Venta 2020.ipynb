
  {
   "cell_type": "code",
   "execution_count": 1,
   "id": "fd9d800d",
   "metadata": {},
   "outputs": [],
   "source": [
    "import pandas as pd\n",
    "import seaborn as sns\n",
    "import matplotlib.pyplot as plt\n",
    "from sklearn.preprocessing import StandardScaler"
   ]
  },
  {
   "cell_type": "code",
   "execution_count": 2,
   "id": "1deb548f",
   "metadata": {},
   "outputs": [
    {
     "data": {
      "text/html": [
       "<div>\n",
       "<style scoped>\n",
       "    .dataframe tbody tr th:only-of-type {\n",
       "        vertical-align: middle;\n",
       "    }\n",
       "\n",
       "    .dataframe tbody tr th {\n",
       "        vertical-align: top;\n",
       "    }\n",
       "\n",
       "    .dataframe thead th {\n",
       "        text-align: right;\n",
       "    }\n",
       "</style>\n",
       "<table border=\"1\" class=\"dataframe\">\n",
       "  <thead>\n",
       "    <tr style=\"text-align: right;\">\n",
       "      <th></th>\n",
       "      <th>Direccion</th>\n",
       "      <th>PropiedadS</th>\n",
       "      <th>Dolares</th>\n",
       "      <th>Pesos</th>\n",
       "      <th>DolaresM2</th>\n",
       "      <th>PesosM2</th>\n",
       "      <th>Ambientes</th>\n",
       "      <th>Cotizacion</th>\n",
       "      <th>Trimestre</th>\n",
       "      <th>Barrio</th>\n",
       "      <th>Comunas</th>\n",
       "    </tr>\n",
       "  </thead>\n",
       "  <tbody>\n",
       "    <tr>\n",
       "      <th>0</th>\n",
       "      <td>Pje Cnel J F Bogado 4561</td>\n",
       "      <td>17</td>\n",
       "      <td>54900</td>\n",
       "      <td>3513600</td>\n",
       "      <td>3229</td>\n",
       "      <td>206682</td>\n",
       "      <td>1</td>\n",
       "      <td>64</td>\n",
       "      <td>SEGUNDO</td>\n",
       "      <td>ALMAGRO</td>\n",
       "      <td>5</td>\n",
       "    </tr>\n",
       "    <tr>\n",
       "      <th>1</th>\n",
       "      <td>BOGADO 4500</td>\n",
       "      <td>18</td>\n",
       "      <td>53000</td>\n",
       "      <td>3392000</td>\n",
       "      <td>2944</td>\n",
       "      <td>188444</td>\n",
       "      <td>1</td>\n",
       "      <td>64</td>\n",
       "      <td>SEGUNDO</td>\n",
       "      <td>ALMAGRO</td>\n",
       "      <td>5</td>\n",
       "    </tr>\n",
       "    <tr>\n",
       "      <th>2</th>\n",
       "      <td>Pte H Yrigoyen 3381</td>\n",
       "      <td>25</td>\n",
       "      <td>45000</td>\n",
       "      <td>2880000</td>\n",
       "      <td>2500</td>\n",
       "      <td>160000</td>\n",
       "      <td>1</td>\n",
       "      <td>64</td>\n",
       "      <td>SEGUNDO</td>\n",
       "      <td>ALMAGRO</td>\n",
       "      <td>5</td>\n",
       "    </tr>\n",
       "    <tr>\n",
       "      <th>3</th>\n",
       "      <td>PASAJE BOGADO 4500</td>\n",
       "      <td>18</td>\n",
       "      <td>41000</td>\n",
       "      <td>2624000</td>\n",
       "      <td>2278</td>\n",
       "      <td>145778</td>\n",
       "      <td>1</td>\n",
       "      <td>64</td>\n",
       "      <td>SEGUNDO</td>\n",
       "      <td>ALMAGRO</td>\n",
       "      <td>5</td>\n",
       "    </tr>\n",
       "    <tr>\n",
       "      <th>4</th>\n",
       "      <td>Estado de Palestina 500</td>\n",
       "      <td>18</td>\n",
       "      <td>58900</td>\n",
       "      <td>3769600</td>\n",
       "      <td>3272</td>\n",
       "      <td>209422</td>\n",
       "      <td>1</td>\n",
       "      <td>64</td>\n",
       "      <td>SEGUNDO</td>\n",
       "      <td>ALMAGRO</td>\n",
       "      <td>5</td>\n",
       "    </tr>\n",
       "  </tbody>\n",
       "</table>\n",
       "</div>"
      ],
      "text/plain": [
       "                  Direccion  PropiedadS  Dolares    Pesos  DolaresM2  PesosM2  \\\n",
       "0  Pje Cnel J F Bogado 4561          17    54900  3513600       3229   206682   \n",
       "1               BOGADO 4500          18    53000  3392000       2944   188444   \n",
       "2       Pte H Yrigoyen 3381          25    45000  2880000       2500   160000   \n",
       "3        PASAJE BOGADO 4500          18    41000  2624000       2278   145778   \n",
       "4   Estado de Palestina 500          18    58900  3769600       3272   209422   \n",
       "\n",
       "   Ambientes  Cotizacion Trimestre   Barrio  Comunas  \n",
       "0          1          64   SEGUNDO  ALMAGRO        5  \n",
       "1          1          64   SEGUNDO  ALMAGRO        5  \n",
       "2          1          64   SEGUNDO  ALMAGRO        5  \n",
       "3          1          64   SEGUNDO  ALMAGRO        5  \n",
       "4          1          64   SEGUNDO  ALMAGRO        5  "
      ]
     },
     "execution_count": 2,
     "metadata": {},
     "output_type": "execute_result"
    }
   ],
   "source": [
    "data = pd.read_csv(\"departamentos-en-venta-2020.csv\")\n",
    "data.head()"
   ]
  },
  {
   "cell_type": "code",
   "execution_count": 3,
   "id": "9e7a5780",
   "metadata": {},
   "outputs": [
    {
     "name": "stdout",
     "output_type": "stream",
     "text": [
      "<class 'pandas.core.frame.DataFrame'>\n",
      "RangeIndex: 156258 entries, 0 to 156257\n",
      "Data columns (total 11 columns):\n",
      " #   Column      Non-Null Count   Dtype \n",
      "---  ------      --------------   ----- \n",
      " 0   Direccion   156258 non-null  object\n",
      " 1   PropiedadS  156258 non-null  int64 \n",
      " 2   Dolares     156258 non-null  int64 \n",
      " 3   Pesos       156258 non-null  int64 \n",
      " 4   DolaresM2   156258 non-null  int64 \n",
      " 5   PesosM2     156258 non-null  int64 \n",
      " 6   Ambientes   156258 non-null  int64 \n",
      " 7   Cotizacion  156258 non-null  int64 \n",
      " 8   Trimestre   156258 non-null  object\n",
      " 9   Barrio      156248 non-null  object\n",
      " 10  Comunas     156258 non-null  int64 \n",
      "dtypes: int64(8), object(3)\n",
      "memory usage: 13.1+ MB\n"
     ]
    }
   ],
   "source": [
    "data.info()"
   ]
  },
  {
   "cell_type": "code",
   "execution_count": 4,
   "id": "14ad4645",
   "metadata": {},
   "outputs": [
    {
     "data": {
      "text/html": [
       "<div>\n",
       "<style scoped>\n",
       "    .dataframe tbody tr th:only-of-type {\n",
       "        vertical-align: middle;\n",
       "    }\n",
       "\n",
       "    .dataframe tbody tr th {\n",
       "        vertical-align: top;\n",
       "    }\n",
       "\n",
       "    .dataframe thead th {\n",
       "        text-align: right;\n",
       "    }\n",
       "</style>\n",
       "<table border=\"1\" class=\"dataframe\">\n",
       "  <thead>\n",
       "    <tr style=\"text-align: right;\">\n",
       "      <th></th>\n",
       "      <th>PropiedadS</th>\n",
       "      <th>Dolares</th>\n",
       "      <th>Pesos</th>\n",
       "      <th>DolaresM2</th>\n",
       "      <th>PesosM2</th>\n",
       "      <th>Ambientes</th>\n",
       "      <th>Cotizacion</th>\n",
       "      <th>Comunas</th>\n",
       "    </tr>\n",
       "  </thead>\n",
       "  <tbody>\n",
       "    <tr>\n",
       "      <th>count</th>\n",
       "      <td>156258.000000</td>\n",
       "      <td>1.562580e+05</td>\n",
       "      <td>1.562580e+05</td>\n",
       "      <td>156258.000000</td>\n",
       "      <td>1.562580e+05</td>\n",
       "      <td>156258.000000</td>\n",
       "      <td>156258.000000</td>\n",
       "      <td>156258.000000</td>\n",
       "    </tr>\n",
       "    <tr>\n",
       "      <th>mean</th>\n",
       "      <td>74.179652</td>\n",
       "      <td>2.139471e+05</td>\n",
       "      <td>1.438505e+07</td>\n",
       "      <td>2913.109473</td>\n",
       "      <td>1.951831e+05</td>\n",
       "      <td>2.536337</td>\n",
       "      <td>67.200009</td>\n",
       "      <td>8.665912</td>\n",
       "    </tr>\n",
       "    <tr>\n",
       "      <th>std</th>\n",
       "      <td>85.214643</td>\n",
       "      <td>2.387804e+05</td>\n",
       "      <td>1.636017e+07</td>\n",
       "      <td>1077.613671</td>\n",
       "      <td>7.260647e+04</td>\n",
       "      <td>1.114281</td>\n",
       "      <td>3.558606</td>\n",
       "      <td>4.849992</td>\n",
       "    </tr>\n",
       "    <tr>\n",
       "      <th>min</th>\n",
       "      <td>11.000000</td>\n",
       "      <td>7.200000e+03</td>\n",
       "      <td>4.392000e+05</td>\n",
       "      <td>147.000000</td>\n",
       "      <td>9.205000e+03</td>\n",
       "      <td>-7.000000</td>\n",
       "      <td>61.000000</td>\n",
       "      <td>0.000000</td>\n",
       "    </tr>\n",
       "    <tr>\n",
       "      <th>25%</th>\n",
       "      <td>41.000000</td>\n",
       "      <td>1.070000e+05</td>\n",
       "      <td>7.089000e+06</td>\n",
       "      <td>2250.000000</td>\n",
       "      <td>1.506300e+05</td>\n",
       "      <td>2.000000</td>\n",
       "      <td>64.000000</td>\n",
       "      <td>4.000000</td>\n",
       "    </tr>\n",
       "    <tr>\n",
       "      <th>50%</th>\n",
       "      <td>58.000000</td>\n",
       "      <td>1.500000e+05</td>\n",
       "      <td>1.007750e+07</td>\n",
       "      <td>2757.000000</td>\n",
       "      <td>1.845420e+05</td>\n",
       "      <td>2.000000</td>\n",
       "      <td>67.000000</td>\n",
       "      <td>10.000000</td>\n",
       "    </tr>\n",
       "    <tr>\n",
       "      <th>75%</th>\n",
       "      <td>85.000000</td>\n",
       "      <td>2.350000e+05</td>\n",
       "      <td>1.593600e+07</td>\n",
       "      <td>3375.000000</td>\n",
       "      <td>2.254550e+05</td>\n",
       "      <td>3.000000</td>\n",
       "      <td>70.000000</td>\n",
       "      <td>13.000000</td>\n",
       "    </tr>\n",
       "    <tr>\n",
       "      <th>max</th>\n",
       "      <td>17180.000000</td>\n",
       "      <td>1.700000e+07</td>\n",
       "      <td>1.088000e+09</td>\n",
       "      <td>72917.000000</td>\n",
       "      <td>4.721354e+06</td>\n",
       "      <td>8.000000</td>\n",
       "      <td>82.000000</td>\n",
       "      <td>15.000000</td>\n",
       "    </tr>\n",
       "  </tbody>\n",
       "</table>\n",
       "</div>"
      ],
      "text/plain": [
       "          PropiedadS       Dolares         Pesos      DolaresM2       PesosM2  \\\n",
       "count  156258.000000  1.562580e+05  1.562580e+05  156258.000000  1.562580e+05   \n",
       "mean       74.179652  2.139471e+05  1.438505e+07    2913.109473  1.951831e+05   \n",
       "std        85.214643  2.387804e+05  1.636017e+07    1077.613671  7.260647e+04   \n",
       "min        11.000000  7.200000e+03  4.392000e+05     147.000000  9.205000e+03   \n",
       "25%        41.000000  1.070000e+05  7.089000e+06    2250.000000  1.506300e+05   \n",
       "50%        58.000000  1.500000e+05  1.007750e+07    2757.000000  1.845420e+05   \n",
       "75%        85.000000  2.350000e+05  1.593600e+07    3375.000000  2.254550e+05   \n",
       "max     17180.000000  1.700000e+07  1.088000e+09   72917.000000  4.721354e+06   \n",
       "\n",
       "           Ambientes     Cotizacion        Comunas  \n",
       "count  156258.000000  156258.000000  156258.000000  \n",
       "mean        2.536337      67.200009       8.665912  \n",
       "std         1.114281       3.558606       4.849992  \n",
       "min        -7.000000      61.000000       0.000000  \n",
       "25%         2.000000      64.000000       4.000000  \n",
       "50%         2.000000      67.000000      10.000000  \n",
       "75%         3.000000      70.000000      13.000000  \n",
       "max         8.000000      82.000000      15.000000  "
      ]
     },
     "execution_count": 4,
     "metadata": {},
     "output_type": "execute_result"
    }
   ],
   "source": [
    "data.describe()"
   ]
  },
  {
   "cell_type": "markdown",
   "id": "90e69198",
   "metadata": {},
   "source": [
    "# Limpieza de Datos y Analisis de Variables"
   ]
  },
  {
   "cell_type": "markdown",
   "id": "206a6077",
   "metadata": {},
   "source": [
    "**Valores nulos**"
   ]
  },
  {
   "cell_type": "code",
   "execution_count": 5,
   "id": "13ef6f58",
   "metadata": {},
   "outputs": [
    {
     "data": {
      "text/plain": [
       "Direccion      0\n",
       "PropiedadS     0\n",
       "Dolares        0\n",
       "Pesos          0\n",
       "DolaresM2      0\n",
       "PesosM2        0\n",
       "Ambientes      0\n",
       "Cotizacion     0\n",
       "Trimestre      0\n",
       "Barrio        10\n",
       "Comunas        0\n",
       "dtype: int64"
      ]
     },
     "execution_count": 5,
     "metadata": {},
     "output_type": "execute_result"
    }
   ],
   "source": [
    "data.isna().sum()"
   ]
  },
  {
   "cell_type": "code",
   "execution_count": 6,
   "id": "c2007092",
   "metadata": {},
   "outputs": [],
   "source": [
    "data.dropna(inplace=True)"
   ]
  },
  {
   "cell_type": "markdown",
   "id": "58623a88",
   "metadata": {},
   "source": [
    "### Barrio"
   ]
  },
  {
   "cell_type": "code",
   "execution_count": 7,
   "id": "473e1047",
   "metadata": {},
   "outputs": [
    {
     "data": {
      "text/plain": [
       "array(['ALMAGRO', 'CABALLITO', 'RECOLETA', 'VILLA CRESPO', 'BALVANERA',\n",
       "       'CONSTITUCION', 'PARQUE PATRICIOS', 'SAN CRISTOBAL', 'MONTSERRAT',\n",
       "       'SAN NICOLAS', 'BOEDO', 'RETIRO', 'SAN TELMO', 'BELGRANO',\n",
       "       'COGHLAN', 'NUÑEZ', 'COLEGIALES', 'SAAVEDRA', 'PALERMO',\n",
       "       'AGRONOMIA', 'VILLA PUEYRREDON', 'CHACARITA', 'PARQUE CHACABUCO',\n",
       "       'FLORES NORTE', 'PARQUE CHAS', 'PATERNAL', 'VILLA DEL PARQUE',\n",
       "       'VILLA DEVOTO NORTE', 'VILLA DEVOTO SUR', 'VILLA ORTUZAR',\n",
       "       'VILLA URQUIZA', 'BOCA', 'BARRACAS ESTE', 'FLORES SUR', 'FLORESTA',\n",
       "       'VILLA SANTA RITA', 'LINIERS', 'MATADEROS', 'MONTE CASTRO',\n",
       "       'NUEVA POMPEYA', 'VELEZ SARSFIELD', 'VERSALLES',\n",
       "       'VILLA GRAL. MITRE', 'VILLA LURO', 'VILLA REAL',\n",
       "       'PARQUE AVELLANEDA', 'VILLA LUGANO', 'BARRACAS OESTE',\n",
       "       'PUERTO MADERO', 'VILLA RIACHUELO', 'VILLA SOLDATI', 'NU?æEZ'],\n",
       "      dtype=object)"
      ]
     },
     "execution_count": 7,
     "metadata": {},
     "output_type": "execute_result"
    }
   ],
   "source": [
    "data['Barrio'].unique()"
   ]
  },
  {
   "cell_type": "code",
   "execution_count": 8,
   "id": "35fc220a",
   "metadata": {},
   "outputs": [],
   "source": [
    "data.loc[data['Barrio'] == 'NU?æEZ'] = 'NUÑEZ'"
   ]
  },
  {
   "cell_type": "code",
   "execution_count": 9,
   "id": "d6d54ddc",
   "metadata": {},
   "outputs": [
    {
     "data": {
      "text/plain": [
       "array(['ALMAGRO', 'CABALLITO', 'RECOLETA', 'VILLA CRESPO', 'BALVANERA',\n",
       "       'CONSTITUCION', 'PARQUE PATRICIOS', 'SAN CRISTOBAL', 'MONTSERRAT',\n",
       "       'SAN NICOLAS', 'BOEDO', 'RETIRO', 'SAN TELMO', 'BELGRANO',\n",
       "       'COGHLAN', 'NUÑEZ', 'COLEGIALES', 'SAAVEDRA', 'PALERMO',\n",
       "       'AGRONOMIA', 'VILLA PUEYRREDON', 'CHACARITA', 'PARQUE CHACABUCO',\n",
       "       'FLORES NORTE', 'PARQUE CHAS', 'PATERNAL', 'VILLA DEL PARQUE',\n",
       "       'VILLA DEVOTO NORTE', 'VILLA DEVOTO SUR', 'VILLA ORTUZAR',\n",
       "       'VILLA URQUIZA', 'BOCA', 'BARRACAS ESTE', 'FLORES SUR', 'FLORESTA',\n",
       "       'VILLA SANTA RITA', 'LINIERS', 'MATADEROS', 'MONTE CASTRO',\n",
       "       'NUEVA POMPEYA', 'VELEZ SARSFIELD', 'VERSALLES',\n",
       "       'VILLA GRAL. MITRE', 'VILLA LURO', 'VILLA REAL',\n",
       "       'PARQUE AVELLANEDA', 'VILLA LUGANO', 'BARRACAS OESTE',\n",
       "       'PUERTO MADERO', 'VILLA RIACHUELO', 'VILLA SOLDATI'], dtype=object)"
      ]
     },
     "execution_count": 9,
     "metadata": {},
     "output_type": "execute_result"
    }
   ],
   "source": [
    "data['Barrio'].unique()"
   ]
  },
  {
   "cell_type": "markdown",
   "id": "f01df649",
   "metadata": {},
   "source": [
    "### Ambientes"
   ]
  },
  {
   "cell_type": "code",
   "execution_count": 10,
   "id": "73477e56",
   "metadata": {},
   "outputs": [
    {
     "data": {
      "text/plain": [
       "array([1, 2, 3, 4, -7, 5, 7, 6, 8, 'NUÑEZ', 0], dtype=object)"
      ]
     },
     "execution_count": 10,
     "metadata": {},
     "output_type": "execute_result"
    }
   ],
   "source": [
    "data['Ambientes'].unique()"
   ]
  },
  {
   "cell_type": "code",
   "execution_count": 11,
   "id": "4929a7eb",
   "metadata": {},
   "outputs": [],
   "source": [
    "data.drop(data[data['Ambientes'] == -7].index, inplace=True)\n",
    "data.drop(data[data['Ambientes'] == 0].index, inplace=True)\n",
    "#index selecciona los registros que cumplen con esa condicion\n",
    "data.drop(data[data['Ambientes'] == 'NUÑEZ'].index, inplace=True)"
   ]
  },
  {
   "cell_type": "code",
   "execution_count": 12,
   "id": "b9e441cd",
   "metadata": {},
   "outputs": [
    {
     "data": {
      "text/plain": [
       "array([1, 2, 3, 4, 5, 7, 6, 8], dtype=object)"
      ]
     },
     "execution_count": 12,
     "metadata": {},
     "output_type": "execute_result"
    }
   ],
   "source": [
    "data['Ambientes'].unique()"
   ]
  },
  {
   "cell_type": "markdown",
   "id": "d0d22325",
   "metadata": {},
   "source": [
    "### Trimestre"
   ]
  },
  {
   "cell_type": "code",
   "execution_count": 13,
   "id": "a5cb7e5e",
   "metadata": {},
   "outputs": [
    {
     "data": {
      "text/plain": [
       "array(['SEGUNDO', 'PRIMER', 'TERCER', 'CUARTO'], dtype=object)"
      ]
     },
     "execution_count": 13,
     "metadata": {},
     "output_type": "execute_result"
    }
   ],
   "source": [
    "data['Trimestre'].unique()"
   ]
  },
  {
   "cell_type": "code",
   "execution_count": 14,
   "id": "d7f8cfc9",
   "metadata": {},
   "outputs": [
    {
     "data": {
      "text/plain": [
       "SEGUNDO    135722\n",
       "PRIMER      11917\n",
       "TERCER       3224\n",
       "CUARTO       2824\n",
       "Name: Trimestre, dtype: int64"
      ]
     },
     "execution_count": 14,
     "metadata": {},
     "output_type": "execute_result"
    }
   ],
   "source": [
    "data['Trimestre'].value_counts()"
   ]
  },
  {
   "cell_type": "markdown",
   "id": "853c15c1",
   "metadata": {},
   "source": [
    "### Comunas"
   ]
  },
  {
   "cell_type": "code",
   "execution_count": 15,
   "id": "b9eb78e0",
   "metadata": {},
   "outputs": [
    {
     "data": {
      "text/plain": [
       "array([5, 6, 2, 15, 3, 1, 4, 13, 12, 14, 7, 11, 10, 9, 8], dtype=object)"
      ]
     },
     "execution_count": 15,
     "metadata": {},
     "output_type": "execute_result"
    }
   ],
   "source": [
    "data['Comunas'].unique()"
   ]
  },
  {
   "cell_type": "markdown",
   "id": "8d1e6bc2",
   "metadata": {},
   "source": [
    "### Las variables categoricas se visualizan en graficos de barra para contar las ocurrencias en cada categoria"
   ]
  },
  {
   "cell_type": "code",
   "execution_count": 16,
   "id": "15af6a8c",
   "metadata": {},
   "outputs": [
    {
     "data": {
      "image/png": "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\n",
      "text/plain": [
       "<Figure size 1500x1000 with 1 Axes>"
      ]
     },
     "metadata": {},
     "output_type": "display_data"
    }
   ],
   "source": [
    "plt.figure(figsize=(15,10))\n",
    "\n",
    "sns.countplot(y = 'Barrio',\n",
    "             data = data)\n",
    "\n",
    "plt.title('Conteo de Barrios', fontsize=20)\n",
    "plt.show()"
   ]
  },
  {
   "cell_type": "markdown",
   "id": "7c2990d1",
   "metadata": {},
   "source": [
    "## Observaciones:\n",
    "- Podemos ver que el Barrio con mayor cantidad de departamentos en venta es Palermo, seguido de Caballito, Belgrano y Recoleta.\n",
    "- Barrios como Barracas Oeste, Villa Soldati y Villa Riachuelo poseen la menor cantidad de unidades a la venta."
   ]
  },
  {
   "cell_type": "code",
   "execution_count": 17,
   "id": "9fbd6345",
   "metadata": {},
   "outputs": [
    {
     "data": {
      "image/png": "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\n",
      "text/plain": [
       "<Figure size 1000x500 with 1 Axes>"
      ]
     },
     "metadata": {},
     "output_type": "display_data"
    }
   ],
   "source": [
    "plt.figure(figsize=(10,5))\n",
    "\n",
    "sns.countplot(x = 'Ambientes',\n",
    "             data = data)\n",
    "\n",
    "plt.title('Ambientes', fontsize=20)\n",
    "plt.show()"
   ]
  },
  {
   "cell_type": "markdown",
   "id": "41689b78",
   "metadata": {},
   "source": [
    "## Observaciones:\n",
    "- Hay mayor disponibilidad de departamentos de 2 y 3 ambientes.\n",
    "- En segundo lugar se encuentran departamentos de 1 y 4 ambientes\n"
   ]
  },
  {
   "cell_type": "code",
   "execution_count": 18,
   "id": "daadd7b7",
   "metadata": {},
   "outputs": [
    {
     "data": {
      "image/png": "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\n",
      "text/plain": [
       "<Figure size 1000x500 with 1 Axes>"
      ]
     },
     "metadata": {},
     "output_type": "display_data"
    }
   ],
   "source": [
    "plt.figure(figsize=(10,5))\n",
    "\n",
    "sns.countplot(x = 'Comunas',\n",
    "            hue = 'Trimestre',\n",
    "             data = data)\n",
    "\n",
    "plt.title('Conteo de Comunas por Trimestre', fontsize=20)\n",
    "plt.show()\n",
    "\n",
    "#Prestar atencion al desbalance de la clase 'Trimestre'"
   ]
  },
  {
   "cell_type": "markdown",
   "id": "72857b3c",
   "metadata": {},
   "source": [
    "## Observaciones:\n",
    "- La comuna 14 es la que tiene mayor cantidad de departamentos en venta (corresponde al Barrio de Palermo)\n",
    "- Le sigue la comuna 13 la cual esta integrada por los barrios de Núñez, Belgrano y Colegiales\n",
    "- En tercer lugar la comuna 1 integrada por los barrios de Retiro, San Nicolás, Puerto Madero, San Telmo, Montserrat y Constitución"
   ]
  },
  {
   "cell_type": "code",
   "execution_count": 19,
   "id": "45ec4a66",
   "metadata": {},
   "outputs": [
    {
     "data": {
      "image/png": "iVBORw0KGgoAAAANSUhEUgAAA20AAAHeCAYAAAAIM+M4AAAAOXRFWHRTb2Z0d2FyZQBNYXRwbG90bGliIHZlcnNpb24zLjUuMiwgaHR0cHM6Ly9tYXRwbG90bGliLm9yZy8qNh9FAAAACXBIWXMAAA9hAAAPYQGoP6dpAABSMUlEQVR4nO3deVwVdf///+eR5YgoRwSBjuFSKWrYhqXoVe7LlWiLpUVRlpGlycUlltlVan5Kc0ktLbPF5SoNuzJt0QivSosUNRKTXCsVTRCvxIMrEMzvD3/O1yOLiCSTPO6329xunnm/ZuY9E+fEk/ec99gMwzAEAAAAALCkWtXdAQAAAABA2QhtAAAAAGBhhDYAAAAAsDBCGwAAAABYGKENAAAAACyM0AYAAAAAFkZoAwAAAAALI7QBAAAAgIUR2gAAAADAwghtAIC/tN27d8tms8lms2n+/PnV3R0AAKocoQ0A8Kc4M0xdyAIAQE1HaAMA4BIxaNAg2Ww2NW3atLq7AgCoQp7V3QEAwKWpUaNG2rx5c5ntvXr10v79++V0OvXFF19U+jhNmzaVYRiV3h4AAKsjtAEA/hReXl4KDw8vt70idQAA1HTcHgkAAAAAFkZoAwBYTufOnWWz2dS5c2dJ0s6dO/XEE0+oefPmqlOnjmw2m3bv3i3p3LNHjhs3zm1Sk7y8PI0bN05t2rRR3bp1FRwcrFtvvVVr1qxx2y4nJ0fPPvusrr76avn6+iogIEC33XabNm7cWKFz2L59u+Li4nT11VfL4XDIx8dHV1xxhR566CH98MMP5W578uRJvfrqq+rcubMCAwPl5eWlBg0aqGXLlrr11ls1ffp08/zPPMcFCxZIkvbs2XPOSV2aNm0qm82mQYMGSZLS0tI0aNAgNWvWTHa7vdRJYI4fP64ZM2aoS5cuCg4Olre3t4KCgtSzZ0/NmzdPRUVF5Z7XV199pXvvvVfNmjWTj4+P6tSpo6ZNm6p9+/YaOXKkvvrqqwpcWQCogQwAAKpBkyZNDElGkyZNSrR16tTJkGR06tTJWLZsmeHr62tIclt27dplGIZh7Nq1y1w3b968EvsaO3as2Z6ZmWm0aNGixL4kGR4eHsYHH3xgGIZhbNq0yWjUqFGpdXa73fjyyy/LPbfx48cbnp6epW4vybDZbMaYMWNK3Xb//v1G69aty9z29JKQkFDqOZa3lHb9H3zwQWP27Nml9vdM69evL/OanF5uuukmIzs7u9Tz+uc//3nO/gUEBJR7XQGgpuI7bQAAy8rMzNT999+vOnXq6LnnntPNN98sDw8PbdiwQXXr1j3v/d19993at2+fRo8erd69e6tOnTpKSUnR2LFjlZeXp8GDB6tt27aKiorSiRMn9OKLL6pTp07y8vJSUlKSXnzxReXn5+uhhx7Szp075e3tXeIYY8aM0f/93/9Jkjp06KCHH35YV199tby8vLR9+3bNmjVLa9eu1fjx4xUYGKjhw4e7bT98+HBt2bJFknT//ffrzjvvlNPplIeHhw4cOKC0tDQtW7bMbZuhQ4fqrrvu0rPPPquPP/74vCZ32bBhg9577z2FhoZq5MiRioiIUFFRkb799luzZvPmzerSpYuOHTumoKAgPf7447r55psVEBCgnJwcffLJJ5ozZ47Wr1+v2267Td9++635nUVJ+uyzzzR9+nRJ0jXXXKPHH39crVq1ksPhkMvl0rZt27Ry5UqtXbu2Qn0GgBqnulMjAKBmqshImyTD6XQae/bsKXM/5zPSZrfbjdTU1BI1y5cvN2saNmxoBAYGGj///HOJutdee82s++ijj0q0r1+/3qhVq5YhyXj22WdL7W9RUZFx//33G5KMevXqGbm5uWbbiRMnDC8vrxIjaaX5/fffS6x78MEHy7ymZzt9/SUZbdq0cevHmYqLi41rrrnGkGRce+21xsGDB0ut+/zzz81zf/vtt93aYmJizH4dOXLkvM4JAGAYfKcNAGBpL730kho3blwl+4qPj1e7du1KrL/11lvVpEkTSdLBgwf1wgsv6MorryxR99BDD6l27dqS5DYSddqkSZNUXFysiIgIjR8/vtQ+1KpVSzNnzpTdbteRI0f04Ycfmm2HDh1SYWGhJOmWW24p91waNGhQbvv5eO2111S/fv1S25YvX64ff/xRkvTvf/9bgYGBpdb17t1bd911lyRp3rx5bm3Z2dmSpBtuuKHcEdKqPCcAuJQQ2gAAluXt7a277767yvZ3zz33lNl2zTXXSJJsNpsGDBhQao2Pj4+aN28uSfr111/d2goLC/X5559Lku66665SJ/I4rX79+mrTpo0kud0SGBAQYN5y+e677+qPP/441yldsNDQUN18881ltn/88ceSpLCwMPMaleV00NywYYPbpCSXXXaZJOmbb77RL7/8cqFdBoAah9AGALCs5s2bmyNbVaFFixZltp0eaQoMDJS/v/85644cOeK2fsuWLTp+/LgkafTo0aXO3njm8v3330v6f6NQkmS32zVw4EBJ0ocffqirrrpKTz31lFasWCGXy3Xe51sR5wpip/u5ffv2c57TE088IUkqKCjQoUOHzH088MADkqTff/9d4eHhuueeezRv3jz9/PPPf8o5AcClhtAGALCs8sJTZdSpU6fMtlq1ap2z5sy6s6e3z8nJqVSfTge902bNmqW+fftKOjV1/5QpU9SnTx8FBATopptu0tSpU5WXl1epY5XmXNe4Ks6rW7dumjVrlnx8fHTy5EktXrxYDz/8sJo3b67LL79cjz32mDZt2lSp4wBATcDskQAAy/Lw8KjuLlTYmSFuypQp6t27d4W28/X1dXvt5+enTz75ROvXr9cHH3ygr7/+Wps2bVJRUZE2bNigDRs2aMqUKVq2bJkiIyMvuN/nusanz6tjx4564403Krxfp9Pp9nrYsGG6++67tWjRIq1cuVLfffedXC6XfvvtN82ZM0dvvvmmnnnmGb3wwgvnfxIAcIkjtAEAUAUCAgLMfxcWFio8PPyC9nfTTTfppptuknTqVsxVq1Zp3rx5Wrp0qXJyctS/f3/98ssv8vHxuaDjnEtAQIAOHDiggwcPXvA5BQUFKT4+XvHx8SouLlZ6ero++ugjvfbaazp8+LBefPFF3XjjjbrtttuqqPcAcGng9kgAAKrA1VdfbU4ikpycXKX7rlevnvr27auPPvpIcXFxkqSsrCylpKS41ZU3+UllXX/99ZKkHTt2aM+ePVW231q1aumGG27QCy+8oC+//NJc/8EHH1TZMQDgUkFoAwCgCtSpU0fdunWTJK1atUrr16//U45z+hiS9L///c+t7fSkLfn5+VV2vH79+pn/njx5cpXt90w33HCD+d26s88JAEBoAwCgyvzrX/8yR7vuueeecqe3Lyoq0qJFi7Rv3z5z3a+//qrVq1eXe4wzR/GaNWvm1nZ6av2cnJwSs1tWVv/+/dWqVStJ0uzZs/XOO++UW5+RkaFPP/3Ubd3ixYt14sSJMrf5/vvvlZubK6nkOQEA+E4bAABVpmPHjhozZoyef/557dq1S9ddd50GDx6snj176rLLLlN+fr52796ttWvX6sMPP9T+/fu1efNmXX755ZKkzMxMdenSRa1bt9Ydd9yhtm3bqlGjRpKkvXv3avHixebtg9dff32JB4V36NBBklRcXKzHHntMw4cPV0BAgBkkr7rqqvM+Jw8PDy1evFgdOnTQ0aNH9cgjj+g///mPoqOjFRYWJi8vL+Xk5Gjjxo367LPPtGbNGiUkJJgzYErSqFGj9Nhjj+m2227TLbfcohYtWsjX11e///67UlJSNHPmTPNYsbGx591HALjUEdoAAKhC48aNU/369fX000/r6NGjeuWVV/TKK6+UWuvt7V3qc+i2bNmiLVu2lHmMVq1a6aOPPirxHbauXbuqffv2Sk1N1aJFi7Ro0SK3dsMwKnFGUps2bfTdd9/prrvu0s6dO/XFF1/oiy++KLPez8+vxLrDhw9rwYIFWrBgQanb1K5dW3PmzFFERESl+ggAlzJCGwAAVSw+Pl5333235syZo5UrV+rnn3/W4cOHZbfb1ahRI7Vp00Y9evRQ//79FRgYaG538803a+3atVq5cqVWrVqlzMxMHThwQCdPnlSDBg107bXXqn///ho0aJA56cmZatWqpeTkZE2ePFmffvqpfvnlFx07dqzSYe1M11xzjbZs2aJFixZp6dKlSktL08GDB1VcXKyAgACFhYXpb3/7m+644w7dcMMNbtt+8803WrlypVauXKktW7YoOztbubm5qlOnjq666ip169ZNjz/+OLdGAkAZbEZVfJIDAAAAAP4UTEQCAAAAABZGaAMAAAAACyO0AQAAAICFEdoAAAAAwMIIbQAAAABgYYQ2AAAAALAwntN2kRUXF2v//v2qV69eiYeiAgAAAKg5DMPQkSNH5HQ6VatW2eNphLaLbP/+/QoNDa3ubgAAAACwiL179+ryyy8vs53QdpHVq1dP0qn/MH5+ftXcGwAAAADVJS8vT6GhoWZGKAuh7SI7fUukn58foQ0AAADAOb82Va0TkXzzzTfq27evnE6nbDabli1bVmbtkCFDZLPZNGPGDLf1+fn5Gj58uAIDA+Xr66t+/fpp3759bjW5ubmKiYmRw+GQw+FQTEyMDh8+7FaTmZmpvn37ytfXV4GBgYqLi1NBQYFbzebNm9WpUyf5+PioUaNGGj9+vAzDuJBLAAAAAADlqtbQduzYMV177bWaNWtWuXXLli3TunXr5HQ6S7TFx8dr6dKlSkxMVEpKio4ePaqoqCgVFRWZNdHR0UpPT1dSUpKSkpKUnp6umJgYs72oqEh9+vTRsWPHlJKSosTERC1ZskQJCQlmTV5ennr06CGn06kNGzZo5syZmjp1qqZNm1YFVwIAAAAAymBYhCRj6dKlJdbv27fPaNSokZGRkWE0adLEmD59utl2+PBhw8vLy0hMTDTX/fbbb0atWrWMpKQkwzAMY8uWLYYkIzU11axZu3atIcnYtm2bYRiGsWLFCqNWrVrGb7/9Zta8//77ht1uN1wul2EYhvH6668bDofDOHnypFkzceJEw+l0GsXFxWWe18mTJw2Xy2Uue/fuNSSZ+wUAAABQM7lcrgplA0s/p624uFgxMTF68skndfXVV5doT0tLU2FhoXr27GmuczqdCg8P15o1ayRJa9eulcPhULt27cya9u3by+FwuNWEh4e7jeT16tVL+fn5SktLM2s6deoku93uVrN//37t3r27zHOYOHGieVumw+Fg5kgAAAAA58XSoW3SpEny9PRUXFxcqe3Z2dny9vaWv7+/2/rg4GBlZ2ebNUFBQSW2DQoKcqsJDg52a/f395e3t3e5Nadfn64pzejRo+Vyucxl79695Z0yAAAAALix7OyRaWlpeuWVV/TDDz+c90OoDcNw26a07auixvj/JyEpr392u91tdA4AAAAAzodlR9q+/fZb5eTkqHHjxvL09JSnp6f27NmjhIQENW3aVJIUEhKigoIC5ebmum2bk5NjjoKFhITowIEDJfZ/8OBBt5qzR8tyc3NVWFhYbk1OTo4klRiBAwAAAICqYtnQFhMTox9//FHp6enm4nQ69eSTT+qLL76QJEVERMjLy0srV640t8vKylJGRoY6dOggSYqMjJTL5dL69evNmnXr1snlcrnVZGRkKCsry6xJTk6W3W5XRESEWfPNN9+4PQYgOTlZTqfTDJEAAAAAUNWq9fbIo0eP6ueffzZf79q1S+np6WrQoIEaN26sgIAAt3ovLy+FhIQoLCxMkuRwODR48GAlJCQoICBADRo00MiRI9WmTRt1795dktSqVSv17t1bsbGxmjNnjiTp0UcfVVRUlLmfnj17qnXr1oqJidGUKVN06NAhjRw5UrGxseYDsKOjo/X8889r0KBBeuaZZ7Rz505NmDBBY8aMOe/bNwEAAACgoqo1tH3//ffq0qWL+XrEiBGSpAcffFDz58+v0D6mT58uT09PDRgwQCdOnFC3bt00f/58eXh4mDULFy5UXFycOctkv3793J4N5+HhoeXLl2vo0KHq2LGjfHx8FB0dralTp5o1DodDK1eu1LBhw9S2bVv5+/trxIgRZp8BAAAA4M9gM07PpoGLIi8vTw6HQy6XyxzFAwAAAFDzVDQbWPY7bQAAAAAAQhsAAAAAWBqhDQAAAAAsjNAGAAAAABZWrbNHAkBVyBzfprq7gBqi8ZjN1d0FAEANxEgbAAAAAFgYoQ0AAAAALIzQBgAAAAAWRmgDAAAAAAsjtAEAAACAhRHaAAAAAMDCCG0AAAAAYGGENgAAAACwMEIbAAAAAFgYoQ0AAAAALIzQBgAAAAAWRmgDAAAAAAsjtAEAAACAhRHaAAAAAMDCCG0AAAAAYGGENgAAAACwMEIbAAAAAFgYoQ0AAAAALIzQBgAAAAAWRmgDAAAAAAsjtAEAAACAhRHaAAAAAMDCCG0AAAAAYGGENgAAAACwMEIbAAAAAFgYoQ0AAAAALIzQBgAAAAAWRmgDAAAAAAsjtAEAAACAhRHaAAAAAMDCCG0AAAAAYGGENgAAAACwMEIbAAAAAFgYoQ0AAAAALIzQBgAAAAAWRmgDAAAAAAsjtAEAAACAhRHaAAAAAMDCqjW0ffPNN+rbt6+cTqdsNpuWLVtmthUWFmrUqFFq06aNfH195XQ69cADD2j//v1u+8jPz9fw4cMVGBgoX19f9evXT/v27XOryc3NVUxMjBwOhxwOh2JiYnT48GG3mszMTPXt21e+vr4KDAxUXFycCgoK3Go2b96sTp06ycfHR40aNdL48eNlGEaVXhMAAAAAOFO1hrZjx47p2muv1axZs0q0HT9+XD/88IOee+45/fDDD/roo4+0Y8cO9evXz60uPj5eS5cuVWJiolJSUnT06FFFRUWpqKjIrImOjlZ6erqSkpKUlJSk9PR0xcTEmO1FRUXq06ePjh07ppSUFCUmJmrJkiVKSEgwa/Ly8tSjRw85nU5t2LBBM2fO1NSpUzVt2rQ/4coAAAAAwCk2wyJDRTabTUuXLtXtt99eZs2GDRt00003ac+ePWrcuLFcLpcaNmyod999VwMHDpQk7d+/X6GhoVqxYoV69eqlrVu3qnXr1kpNTVW7du0kSampqYqMjNS2bdsUFhamzz//XFFRUdq7d6+cTqckKTExUYMGDVJOTo78/Pw0e/ZsjR49WgcOHJDdbpckvfTSS5o5c6b27dsnm81WofPMy8uTw+GQy+WSn5/fBVwxAKdljm9T3V1ADdF4zObq7gIA4BJS0Wzwl/pOm8vlks1mU/369SVJaWlpKiwsVM+ePc0ap9Op8PBwrVmzRpK0du1aORwOM7BJUvv27eVwONxqwsPDzcAmSb169VJ+fr7S0tLMmk6dOpmB7XTN/v37tXv37jL7nJ+fr7y8PLcFAAAAACrqLxPaTp48qaefflrR0dFmCs3Ozpa3t7f8/f3daoODg5WdnW3WBAUFldhfUFCQW01wcLBbu7+/v7y9vcutOf36dE1pJk6caH6XzuFwKDQ09HxOGwAAAEAN95cIbYWFhbrnnntUXFys119//Zz1hmG43a5Y2q2LVVFz+s7S8m6NHD16tFwul7ns3bv3nP0HAAAAgNMsH9oKCws1YMAA7dq1SytXrnS71zMkJEQFBQXKzc112yYnJ8ccBQsJCdGBAwdK7PfgwYNuNWePluXm5qqwsLDcmpycHEkqMQJ3JrvdLj8/P7cFAAAAACrK0qHtdGDbuXOn/vvf/yogIMCtPSIiQl5eXlq5cqW5LisrSxkZGerQoYMkKTIyUi6XS+vXrzdr1q1bJ5fL5VaTkZGhrKwssyY5OVl2u10RERFmzTfffOP2GIDk5GQ5nU41bdq0ys8dAAAAAKRqDm1Hjx5Venq60tPTJUm7du1Senq6MjMz9ccff+iuu+7S999/r4ULF6qoqEjZ2dnKzs42g5PD4dDgwYOVkJCgL7/8Uhs3btT999+vNm3aqHv37pKkVq1aqXfv3oqNjVVqaqpSU1MVGxurqKgohYWFSZJ69uyp1q1bKyYmRhs3btSXX36pkSNHKjY21hwZi46Olt1u16BBg5SRkaGlS5dqwoQJGjFiRIVnjgQAAACA81WtU/6vWrVKXbp0KbH+wQcf1Lhx49SsWbNSt/v666/VuXNnSacmKHnyySe1aNEinThxQt26ddPrr7/uNuHHoUOHFBcXp08++USS1K9fP82aNcuchVI69XDtoUOH6quvvpKPj4+io6M1depUt9kiN2/erGHDhmn9+vXy9/fXY489pjFjxpxXaGPKf6DqMeU/Lham/AcAVKWKZgPLPKetpiC0AVWP0IaLhdAGAKhKl+Rz2gAAAACgpiG0AQAAAICFEdoAAAAAwMIIbQAAAABgYYQ2AAAAALAwQhsAAAAAWBihDQAAAAAsjNAGAAAAABZGaAMAAAAACyO0AQAAAICFEdoAAAAAwMIIbQAAAABgYYQ2AAAAALAwQhsAAAAAWBihDQAAAAAsjNAGAAAAABZGaAMAAAAACyO0AQAAAICFEdoAAAAAwMIIbQAAAABgYYQ2AAAAALAwQhsAAAAAWBihDQAAAAAsjNAGAAAAABZGaAMAAAAACyO0AQAAAICFEdoAAAAAwMIIbQAAAABgYYQ2AAAAALAwQhsAAAAAWBihDQAAAAAsjNAGAAAAABZGaAMAAAAACyO0AQAAAICFEdoAAAAAwMIIbQAAAABgYYQ2AAAAALAwQhsAAAAAWBihDQAAAAAsjNAGAAAAABZGaAMAAAAACyO0AQAAAICFEdoAAAAAwMKqNbR988036tu3r5xOp2w2m5YtW+bWbhiGxo0bJ6fTKR8fH3Xu3Fk//fSTW01+fr6GDx+uwMBA+fr6ql+/ftq3b59bTW5urmJiYuRwOORwOBQTE6PDhw+71WRmZqpv377y9fVVYGCg4uLiVFBQ4FazefNmderUST4+PmrUqJHGjx8vwzCq7HoAAAAAwNmqNbQdO3ZM1157rWbNmlVq++TJkzVt2jTNmjVLGzZsUEhIiHr06KEjR46YNfHx8Vq6dKkSExOVkpKio0ePKioqSkVFRWZNdHS00tPTlZSUpKSkJKWnpysmJsZsLyoqUp8+fXTs2DGlpKQoMTFRS5YsUUJCglmTl5enHj16yOl0asOGDZo5c6amTp2qadOm/QlXBgAAAABOsRkWGSqy2WxaunSpbr/9dkmnRtmcTqfi4+M1atQoSadG1YKDgzVp0iQNGTJELpdLDRs21LvvvquBAwdKkvbv36/Q0FCtWLFCvXr10tatW9W6dWulpqaqXbt2kqTU1FRFRkZq27ZtCgsL0+eff66oqCjt3btXTqdTkpSYmKhBgwYpJydHfn5+mj17tkaPHq0DBw7IbrdLkl566SXNnDlT+/btk81mq9B55uXlyeFwyOVyyc/PryovIVBjZY5vU91dQA3ReMzm6u4CAOASUtFsYNnvtO3atUvZ2dnq2bOnuc5ut6tTp05as2aNJCktLU2FhYVuNU6nU+Hh4WbN2rVr5XA4zMAmSe3bt5fD4XCrCQ8PNwObJPXq1Uv5+flKS0szazp16mQGttM1+/fv1+7du8s8j/z8fOXl5bktAAAAAFBRlg1t2dnZkqTg4GC39cHBwWZbdna2vL295e/vX25NUFBQif0HBQW51Zx9HH9/f3l7e5dbc/r16ZrSTJw40fwuncPhUGhoaPknDgAAAABnsGxoO+3s2w4NwzjnrYhn15RWXxU1p+8sLa8/o0ePlsvlMpe9e/eW23cAAAAAOJNlQ1tISIikkqNYOTk55ghXSEiICgoKlJubW27NgQMHSuz/4MGDbjVnHyc3N1eFhYXl1uTk5EgqORp4JrvdLj8/P7cFAAAAACrKsqGtWbNmCgkJ0cqVK811BQUFWr16tTp06CBJioiIkJeXl1tNVlaWMjIyzJrIyEi5XC6tX7/erFm3bp1cLpdbTUZGhrKyssya5ORk2e12RUREmDXffPON22MAkpOT5XQ61bRp06q/AAAAAACgag5tR48eVXp6utLT0yWdmnwkPT1dmZmZstlsio+P14QJE7R06VJlZGRo0KBBqlOnjqKjoyVJDodDgwcPVkJCgr788ktt3LhR999/v9q0aaPu3btLklq1aqXevXsrNjZWqampSk1NVWxsrKKiohQWFiZJ6tmzp1q3bq2YmBht3LhRX375pUaOHKnY2FhzZCw6Olp2u12DBg1SRkaGli5dqgkTJmjEiBEVnjkSAAAAAM6XZ3Ue/Pvvv1eXLl3M1yNGjJAkPfjgg5o/f76eeuopnThxQkOHDlVubq7atWun5ORk1atXz9xm+vTp8vT01IABA3TixAl169ZN8+fPl4eHh1mzcOFCxcXFmbNM9uvXz+3ZcB4eHlq+fLmGDh2qjh07ysfHR9HR0Zo6dapZ43A4tHLlSg0bNkxt27aVv7+/RowYYfYZAAAAAP4MlnlOW03Bc9qAqsdz2nCx8Jw2AEBV+ss/pw0AAAAAQGgDAAAAAEsjtAEAAACAhRHaAAAAAMDCCG0AAAAAYGGENgAAAACwMEIbAAAAAFgYoQ0AAAAALIzQBgAAAAAWRmgDAAAAAAsjtAEAAACAhRHaAAAAAMDCCG0AAAAAYGGENgAAAACwMEIbAAAAAFgYoQ0AAAAALIzQBgAAAAAWRmgDAAAAAAsjtAEAAACAhRHaAAAAAMDCCG0AAAAAYGGENgAAAACwMEIbAAAAAFgYoQ0AAAAALIzQBgAAAAAWRmgDAAAAAAsjtAEAAACAhRHaAAAAAMDCCG0AAAAAYGGENgAAAACwMEIbAAAAAFgYoQ0AAAAALIzQBgAAAAAWRmgDAAAAAAsjtAEAAACAhRHaAAAAAMDCCG0AAAAAYGGENgAAAACwMEIbAAAAAFgYoQ0AAAAALIzQBgAAAAAWRmgDAAAAAAsjtAEAAACAhVk6tP3xxx969tln1axZM/n4+OiKK67Q+PHjVVxcbNYYhqFx48bJ6XTKx8dHnTt31k8//eS2n/z8fA0fPlyBgYHy9fVVv379tG/fPrea3NxcxcTEyOFwyOFwKCYmRocPH3aryczMVN++feXr66vAwEDFxcWpoKDgTzt/AAAAALB0aJs0aZLeeOMNzZo1S1u3btXkyZM1ZcoUzZw506yZPHmypk2bplmzZmnDhg0KCQlRjx49dOTIEbMmPj5eS5cuVWJiolJSUnT06FFFRUWpqKjIrImOjlZ6erqSkpKUlJSk9PR0xcTEmO1FRUXq06ePjh07ppSUFCUmJmrJkiVKSEi4OBcDAAAAQI1kMwzDqO5OlCUqKkrBwcF65513zHX9+/dXnTp19O6778owDDmdTsXHx2vUqFGSTo2qBQcHa9KkSRoyZIhcLpcaNmyod999VwMHDpQk7d+/X6GhoVqxYoV69eqlrVu3qnXr1kpNTVW7du0kSampqYqMjNS2bdsUFhamzz//XFFRUdq7d6+cTqckKTExUYMGDVJOTo78/PwqdE55eXlyOBxyuVwV3gZA+TLHt6nuLqCGaDxmc3V3AQBwCaloNrD0SNvf/vY3ffnll9qxY4ckadOmTUpJSdGtt94qSdq1a5eys7PVs2dPcxu73a5OnTppzZo1kqS0tDQVFha61TidToWHh5s1a9eulcPhMAObJLVv314Oh8OtJjw83AxsktSrVy/l5+crLS2tzHPIz89XXl6e2wIAAAAAFeVZ3R0oz6hRo+RyudSyZUt5eHioqKhIL774ou69915JUnZ2tiQpODjYbbvg4GDt2bPHrPH29pa/v3+JmtPbZ2dnKygoqMTxg4KC3GrOPo6/v7+8vb3NmtJMnDhRzz///PmcNgAAAACYLD3StnjxYr333ntatGiRfvjhBy1YsEBTp07VggUL3OpsNpvba8MwSqw729k1pdVXpuZso0ePlsvlMpe9e/eW2y8AAAAAOJOlR9qefPJJPf3007rnnnskSW3atNGePXs0ceJEPfjggwoJCZF0ahTssssuM7fLyckxR8VCQkJUUFCg3Nxct9G2nJwcdejQwaw5cOBAieMfPHjQbT/r1q1za8/NzVVhYWGJEbgz2e122e32ypw+AAAAAFh7pO348eOqVcu9ix4eHuaU/82aNVNISIhWrlxpthcUFGj16tVmIIuIiJCXl5dbTVZWljIyMsyayMhIuVwurV+/3qxZt26dXC6XW01GRoaysrLMmuTkZNntdkVERFTxmQMAAADAKZYeaevbt69efPFFNW7cWFdffbU2btyoadOm6eGHH5Z06nbF+Ph4TZgwQc2bN1fz5s01YcIE1alTR9HR0ZIkh8OhwYMHKyEhQQEBAWrQoIFGjhypNm3aqHv37pKkVq1aqXfv3oqNjdWcOXMkSY8++qiioqIUFhYmSerZs6dat26tmJgYTZkyRYcOHdLIkSMVGxvLLJAAAAAA/jSWDm0zZ87Uc889p6FDhyonJ0dOp1NDhgzRmDFjzJqnnnpKJ06c0NChQ5Wbm6t27dopOTlZ9erVM2umT58uT09PDRgwQCdOnFC3bt00f/58eXh4mDULFy5UXFycOctkv379NGvWLLPdw8NDy5cv19ChQ9WxY0f5+PgoOjpaU6dOvQhXAgAAAEBNVanntHXt2lUfffSR6tev77Y+Ly9Pt99+u7766quq6t8lh+e0AVWP57ThYuE5bQCAqvSnPqdt1apVKigoKLH+5MmT+vbbbyuzSwAAAABAKc7r9sgff/zR/PeWLVvcnk9WVFSkpKQkNWrUqOp6BwAAAAA13HmFtuuuu042m002m01du3Yt0e7j46OZM2dWWecAAAAAoKY7r9C2a9cuGYahK664QuvXr1fDhg3NNm9vbwUFBblN7gEAAAAAuDDnFdqaNGkiSeZz0gAAAAAAf65KT/m/Y8cOrVq1Sjk5OSVC3JlT8gMAAAAAKq9Soe2tt97S448/rsDAQIWEhMhms5ltNpuN0AYAAAAAVaRSoe2FF17Qiy++qFGjRlV1fwAAAAAAZ6jUc9pyc3N19913V3VfAAAAAABnqVRou/vuu5WcnFzVfQEAAAAAnKVSt0deddVVeu6555Samqo2bdrIy8vLrT0uLq5KOgcAAAAANZ3NMAzjfDdq1qxZ2Tu02fTrr79eUKcuZXl5eXI4HHK5XPLz86vu7gCXhMzxbaq7C6ghGo/ZXN1dAABcQiqaDSo10rZr165KdwwAAAAAUHGV+k4bAAAAAODiqNRI28MPP1xu+9y5cyvVGQAAAACAu0qFttzcXLfXhYWFysjI0OHDh9W1a9cq6RgAAAAAoJKhbenSpSXWFRcXa+jQobriiisuuFMAAAAAgFOq7DtttWrV0j//+U9Nnz69qnYJAAAAADVelU5E8ssvv+iPP/6oyl0CAAAAQI1WqdsjR4wY4fbaMAxlZWVp+fLlevDBB6ukYwAAAACASoa2jRs3ur2uVauWGjZsqJdffvmcM0sCAAAAACquUqHt66+/rup+AAAAAABKUanQdtrBgwe1fft22Ww2tWjRQg0bNqyqfgEAAAAAVMmJSI4dO6aHH35Yl112mW655RbdfPPNcjqdGjx4sI4fP17VfQQAAACAGqtSoW3EiBFavXq1Pv30Ux0+fFiHDx/Wxx9/rNWrVyshIaGq+wgAAAAANValbo9csmSJPvzwQ3Xu3Nlcd+utt8rHx0cDBgzQ7Nmzq6p/AAAAAFCjVWqk7fjx4woODi6xPigoiNsjAQAAAKAKVSq0RUZGauzYsTp58qS57sSJE3r++ecVGRlZZZ0DAAAAgJquUrdHzpgxQ3//+991+eWX69prr5XNZlN6errsdruSk5Oruo8AAAAAUGNVKrS1adNGO3fu1Hvvvadt27bJMAzdc889uu++++Tj41PVfQQAAACAGqtSoW3ixIkKDg5WbGys2/q5c+fq4MGDGjVqVJV0DgAAAABqukp9p23OnDlq2bJlifVXX3213njjjQvuFAAAAADglEqFtuzsbF122WUl1jds2FBZWVkX3CkAAAAAwCmVCm2hoaH67rvvSqz/7rvv5HQ6L7hTAAAAAIBTKvWdtkceeUTx8fEqLCxU165dJUlffvmlnnrqKSUkJFRpBwEAAACgJqtUaHvqqad06NAhDR06VAUFBZKk2rVra9SoURo9enSVdhAAAAAAarJKhTabzaZJkybpueee09atW+Xj46PmzZvLbrdXdf8AAAAAoEarVGg7rW7durrxxhurqi8AAAAAgLNUaiISAAAAAMDFQWgDAAAAAAsjtAEAAACAhRHaAAAAAMDCCG0AAAAAYGGWD22//fab7r//fgUEBKhOnTq67rrrlJaWZrYbhqFx48bJ6XTKx8dHnTt31k8//eS2j/z8fA0fPlyBgYHy9fVVv379tG/fPrea3NxcxcTEyOFwyOFwKCYmRocPH3aryczMVN++feXr66vAwEDFxcWZz6kDAAAAgD+DpUNbbm6uOnbsKC8vL33++efasmWLXn75ZdWvX9+smTx5sqZNm6ZZs2Zpw4YNCgkJUY8ePXTkyBGzJj4+XkuXLlViYqJSUlJ09OhRRUVFqaioyKyJjo5Wenq6kpKSlJSUpPT0dMXExJjtRUVF6tOnj44dO6aUlBQlJiZqyZIlSkhIuCjXAgAAAEDNZDMMw6juTpTl6aef1nfffadvv/221HbDMOR0OhUfH69Ro0ZJOjWqFhwcrEmTJmnIkCFyuVxq2LCh3n33XQ0cOFCStH//foWGhmrFihXq1auXtm7dqtatWys1NVXt2rWTJKWmpioyMlLbtm1TWFiYPv/8c0VFRWnv3r1yOp2SpMTERA0aNEg5OTny8/Or0Dnl5eXJ4XDI5XJVeBsA5csc36a6u4AaovGYzdXdBQDAJaSi2cDSI22ffPKJ2rZtq7vvvltBQUG6/vrr9dZbb5ntu3btUnZ2tnr27Gmus9vt6tSpk9asWSNJSktLU2FhoVuN0+lUeHi4WbN27Vo5HA4zsElS+/bt5XA43GrCw8PNwCZJvXr1Un5+vtvtmmfLz89XXl6e2wIAAAAAFWXp0Pbrr79q9uzZat68ub744gs99thjiouL07///W9JUnZ2tiQpODjYbbvg4GCzLTs7W97e3vL39y+3JigoqMTxg4KC3GrOPo6/v7+8vb3NmtJMnDjR/J6cw+FQaGjo+VwCAAAAADWcpUNbcXGxbrjhBk2YMEHXX3+9hgwZotjYWM2ePdutzmazub02DKPEurOdXVNafWVqzjZ69Gi5XC5z2bt3b7n9AgAAAIAzWTq0XXbZZWrdurXbulatWikzM1OSFBISIkklRrpycnLMUbGQkBAVFBQoNze33JoDBw6UOP7Bgwfdas4+Tm5urgoLC0uMwJ3JbrfLz8/PbQEAAACAirJ0aOvYsaO2b9/utm7Hjh1q0qSJJKlZs2YKCQnRypUrzfaCggKtXr1aHTp0kCRFRETIy8vLrSYrK0sZGRlmTWRkpFwul9avX2/WrFu3Ti6Xy60mIyNDWVlZZk1ycrLsdrsiIiKq+MwBAAAA4BTP6u5Aef75z3+qQ4cOmjBhggYMGKD169frzTff1Jtvvinp1O2K8fHxmjBhgpo3b67mzZtrwoQJqlOnjqKjoyVJDodDgwcPVkJCggICAtSgQQONHDlSbdq0Uffu3SWdGr3r3bu3YmNjNWfOHEnSo48+qqioKIWFhUmSevbsqdatWysmJkZTpkzRoUOHNHLkSMXGxjJ6BgAAAOBPY+nQduONN2rp0qUaPXq0xo8fr2bNmmnGjBm67777zJqnnnpKJ06c0NChQ5Wbm6t27dopOTlZ9erVM2umT58uT09PDRgwQCdOnFC3bt00f/58eXh4mDULFy5UXFycOctkv379NGvWLLPdw8NDy5cv19ChQ9WxY0f5+PgoOjpaU6dOvQhXAgAAAEBNZenntF2KeE4bUPV4ThsuFp7TBgCoSpfEc9oAAAAAoKYjtAEAAACAhRHaAAAAAMDCCG0AAAAAYGGENgAAAACwMEIbAAAAAFgYoQ0AAAAALIzQBgAAAAAWRmgDAAAAAAsjtAEAAACAhRHaAAAAAMDCCG0AAAAAYGGENgAAAACwMEIbAAAAAFgYoQ0AAAAALIzQBgAAAAAWRmgDAAAAAAsjtAEAAACAhRHaAAAAAMDCCG0AAAAAYGGENgAAAACwMEIbAAAAAFgYoQ0AAAAALIzQBgAAAAAWRmgDAAAAAAsjtAEAAACAhRHaAAAAAMDCCG0AAAAAYGGENgAAAACwMEIbAAAAAFgYoQ0AAAAALIzQBgAAAAAWRmgDAAAAAAsjtAEAAACAhRHaAAAAAMDCCG0AAAAAYGGENgAAAACwMEIbAAAAAFgYoQ0AAAAALIzQBgAAAAAWRmgDAAAAAAsjtAEAAACAhRHaAAAAAMDC/lKhbeLEibLZbIqPjzfXGYahcePGyel0ysfHR507d9ZPP/3ktl1+fr6GDx+uwMBA+fr6ql+/ftq3b59bTW5urmJiYuRwOORwOBQTE6PDhw+71WRmZqpv377y9fVVYGCg4uLiVFBQ8GedLgAAAAD8dULbhg0b9Oabb+qaa65xWz958mRNmzZNs2bN0oYNGxQSEqIePXroyJEjZk18fLyWLl2qxMREpaSk6OjRo4qKilJRUZFZEx0drfT0dCUlJSkpKUnp6emKiYkx24uKitSnTx8dO3ZMKSkpSkxM1JIlS5SQkPDnnzwAAACAGusvEdqOHj2q++67T2+99Zb8/f3N9YZhaMaMGfrXv/6lO++8U+Hh4VqwYIGOHz+uRYsWSZJcLpfeeecdvfzyy+revbuuv/56vffee9q8ebP++9//SpK2bt2qpKQkvf3224qMjFRkZKTeeustffbZZ9q+fbskKTk5WVu2bNF7772n66+/Xt27d9fLL7+st956S3l5eRf/ogAAAACoEf4SoW3YsGHq06ePunfv7rZ+165dys7OVs+ePc11drtdnTp10po1ayRJaWlpKiwsdKtxOp0KDw83a9auXSuHw6F27dqZNe3bt5fD4XCrCQ8Pl9PpNGt69eql/Px8paWlldn3/Px85eXluS0AAAAAUFGe1d2Bc0lMTFRaWpq+//77Em3Z2dmSpODgYLf1wcHB2rNnj1nj7e3tNkJ3uub09tnZ2QoKCiqx/6CgILeas4/j7+8vb29vs6Y0EydO1PPPP3+u0wQAAACAUll6pG3v3r36xz/+oYULF6p27dpl1tlsNrfXhmGUWHe2s2tKq69MzdlGjx4tl8tlLnv37i23XwAAAABwJkuHtrS0NOXk5CgiIkKenp7y9PTU6tWr9eqrr8rT09Mc+Tp7pCsnJ8dsCwkJUUFBgXJzc8utOXDgQInjHzx40K3m7OPk5uaqsLCwxAjcmex2u/z8/NwWAAAAAKgoS4e2bt26afPmzUpPTzeXtm3b6r777lN6erquuOIKhYSEaOXKleY2BQUFWr16tTp06CBJioiIkJeXl1tNVlaWMjIyzJrIyEi5XC6tX7/erFm3bp1cLpdbTUZGhrKyssya5ORk2e12RURE/KnXAQAAAEDNZenvtNWrV0/h4eFu63x9fRUQEGCuj4+P14QJE9S8eXM1b95cEyZMUJ06dRQdHS1JcjgcGjx4sBISEhQQEKAGDRpo5MiRatOmjTmxSatWrdS7d2/FxsZqzpw5kqRHH31UUVFRCgsLkyT17NlTrVu3VkxMjKZMmaJDhw5p5MiRio2NZfQMAAAAwJ/G0qGtIp566imdOHFCQ4cOVW5urtq1a6fk5GTVq1fPrJk+fbo8PT01YMAAnThxQt26ddP8+fPl4eFh1ixcuFBxcXHmLJP9+vXTrFmzzHYPDw8tX75cQ4cOVceOHeXj46Po6GhNnTr14p0sAAAAgBrHZhiGUd2dqEny8vLkcDjkcrkYoQOqSOb4NtXdBdQQjcdsru4uAAAuIRXNBpb+ThsAAAAA1HSENgAAAACwMEIbAAAAAFgYoQ0AAAAALIzQBgAAAAAWRmgDAAAAAAsjtAEAAACAhRHaAAAAAMDCCG0AAAAAYGGENgAAAACwMEIbAAAAAFgYoQ0AAAAALIzQBgAAAAAWRmgDAAAAAAsjtAEAAACAhRHaAAAAAMDCCG0AAAAAYGGENgAAAACwMEIbAAAAAFgYoQ0AAAAALIzQBgAAAAAWRmgDAAAAAAsjtAEAAACAhRHaAAAAAMDCCG0AAAAAYGGENgAAAACwMEIbAAAAAFgYoQ0AAAAALIzQBgAAAAAWRmgDAAAAAAsjtAEAAACAhRHaAAAAAMDCCG0AAAAAYGGENgAAAACwMEIbAAAAAFgYoQ0AAAAALIzQBgAAAAAWRmgDAAAAAAsjtAEAAACAhRHaAAAAAMDCCG0AAAAAYGGENgAAAACwMEIbAAAAAFiYpUPbxIkTdeONN6pevXoKCgrS7bffru3bt7vVGIahcePGyel0ysfHR507d9ZPP/3kVpOfn6/hw4crMDBQvr6+6tevn/bt2+dWk5ubq5iYGDkcDjkcDsXExOjw4cNuNZmZmerbt698fX0VGBiouLg4FRQU/CnnDgAAAACSxUPb6tWrNWzYMKWmpmrlypX6448/1LNnTx07dsysmTx5sqZNm6ZZs2Zpw4YNCgkJUY8ePXTkyBGzJj4+XkuXLlViYqJSUlJ09OhRRUVFqaioyKyJjo5Wenq6kpKSlJSUpPT0dMXExJjtRUVF6tOnj44dO6aUlBQlJiZqyZIlSkhIuDgXAwAAAECNZDMMw6juTlTUwYMHFRQUpNWrV+uWW26RYRhyOp2Kj4/XqFGjJJ0aVQsODtakSZM0ZMgQuVwuNWzYUO+++64GDhwoSdq/f79CQ0O1YsUK9erVS1u3blXr1q2Vmpqqdu3aSZJSU1MVGRmpbdu2KSwsTJ9//rmioqK0d+9eOZ1OSVJiYqIGDRqknJwc+fn5Vegc8vLy5HA45HK5KrwNgPJljm9T3V1ADdF4zObq7gIA4BJS0Wxg6ZG2s7lcLklSgwYNJEm7du1Sdna2evbsadbY7XZ16tRJa9askSSlpaWpsLDQrcbpdCo8PNysWbt2rRwOhxnYJKl9+/ZyOBxuNeHh4WZgk6RevXopPz9faWlpZfY5Pz9feXl5bgsAAAAAVNRfJrQZhqERI0bob3/7m8LDwyVJ2dnZkqTg4GC32uDgYLMtOztb3t7e8vf3L7cmKCioxDGDgoLcas4+jr+/v7y9vc2a0kycONH8npzD4VBoaOj5nDYAAACAGu4vE9qeeOIJ/fjjj3r//fdLtNlsNrfXhmGUWHe2s2tKq69MzdlGjx4tl8tlLnv37i23XwAAAABwpr9EaBs+fLg++eQTff3117r88svN9SEhIZJUYqQrJyfHHBULCQlRQUGBcnNzy605cOBAieMePHjQrebs4+Tm5qqwsLDECNyZ7Ha7/Pz83BYAAAAAqChLhzbDMPTEE0/oo48+0ldffaVmzZq5tTdr1kwhISFauXKlua6goECrV69Whw4dJEkRERHy8vJyq8nKylJGRoZZExkZKZfLpfXr15s169atk8vlcqvJyMhQVlaWWZOcnCy73a6IiIiqP3kAAAAAkORZ3R0oz7Bhw7Ro0SJ9/PHHqlevnjnS5XA45OPjI5vNpvj4eE2YMEHNmzdX8+bNNWHCBNWpU0fR0dFm7eDBg5WQkKCAgAA1aNBAI0eOVJs2bdS9e3dJUqtWrdS7d2/FxsZqzpw5kqRHH31UUVFRCgsLkyT17NlTrVu3VkxMjKZMmaJDhw5p5MiRio2NZfQMAAAAwJ/G0qFt9uzZkqTOnTu7rZ83b54GDRokSXrqqad04sQJDR06VLm5uWrXrp2Sk5NVr149s3769Ony9PTUgAEDdOLECXXr1k3z58+Xh4eHWbNw4ULFxcWZs0z269dPs2bNMts9PDy0fPlyDR06VB07dpSPj4+io6M1derUP+nsAQAAAOAv9py2SwHPaQOqHs9pw8XCc9oAAFXpknxOGwAAAADUNIQ2AAAAALAwQhsAAAAAWBihDQAAAAAsjNAGAAAAABZGaAMAAAAACyO0AQAAAICFEdoAAAAAwMIIbQAAAABgYYQ2AAAAALAwQhsAAAAAWBihDQAAAAAsjNAGAAAAABZGaAMAAAAACyO0AQAAAICFeVZ3B3BhIp78d3V3ATVE2pQHqrsLAAAANRIjbQAAAABgYYQ2AAAAALAwQhsAAAAAWBihDQAAAAAsjNAGAAAAABZGaAMAAAAACyO0AQAAAICFEdoAAAAAwMIIbQAAAABgYYQ2AAAAALAwQhsAAAAAWBihDQAAAAAsjNAGAAAAABZGaAMAAAAACyO0AQAAAICFEdoAAAAAwMIIbQAAAABgYYQ2AAAAALAwQhsAAAAAWBihDQAAAAAsjNAGAAAAABZGaAMAAAAAC/Os7g4AAIAL03Fmx+ruAmqI74Z/V91dAGokQhsAAAD+8lbf0qm6u4AaotM3qy/6Mbk9EgAAAAAsjNAGAAAAABZGaAMAAAAACyO0VcLrr7+uZs2aqXbt2oqIiNC3335b3V0CAAAAcIkitJ2nxYsXKz4+Xv/617+0ceNG3Xzzzfr73/+uzMzM6u4aAAAAgEsQoe08TZs2TYMHD9YjjzyiVq1aacaMGQoNDdXs2bOru2sAAAAALkFM+X8eCgoKlJaWpqefftptfc+ePbVmzZpSt8nPz1d+fr752uVySZLy8vKqpE9F+SeqZD/AuVTVz+yf4cjJouruAmoIq74P/jjxR3V3ATWEVd8DknTsD94HuDiq8n1wel+GYZRbR2g7D//73/9UVFSk4OBgt/XBwcHKzs4udZuJEyfq+eefL7E+NDT0T+kj8GdxzHysursAVL+JjuruAVCtHKN4DwByVP374MiRI3KUs19CWyXYbDa314ZhlFh32ujRozVixAjzdXFxsQ4dOqSAgIAyt8GfJy8vT6Ghodq7d6/8/PyquztAteB9APA+ACTeB1ZgGIaOHDkip9NZbh2h7TwEBgbKw8OjxKhaTk5OidG30+x2u+x2u9u6+vXr/1ldRAX5+fnx4YQaj/cBwPsAkHgfVLfyRthOYyKS8+Dt7a2IiAitXLnSbf3KlSvVoUOHauoVAAAAgEsZI23nacSIEYqJiVHbtm0VGRmpN998U5mZmXrsMb7vAwAAAKDqEdrO08CBA/X7779r/PjxysrKUnh4uFasWKEmTZpUd9dQAXa7XWPHji1xyypQk/A+AHgfABLvg78Sm3Gu+SUBAAAAANWG77QBAAAAgIUR2gAAAADAwghtAAAAAGBhhDYAAAAAsDBCGyxl0KBBstlsstls8vLy0hVXXKGRI0fq2LFj2r17t9lms9nkcDjUvn17ffrpp277mD9/vtsDzOfPny+bzaZWrVqVON4HH3wgm82mpk2blqg/e6ldu3ap/fT09FTjxo31+OOPKzc3t8qvCS49OTk5GjJkiBo3biy73a6QkBD16tVLa9eulSQ1bdq01J/Bl156yW0/S5YsUdeuXeXv7686deooLCxMDz/8sDZu3GjWjBs3Ttddd12JPhw+fFg2m02rVq2SJPP9FRQUpCNHjrjVXnfddRo3bpz5unPnzmaf7Ha7GjVqpL59++qjjz4q9Xw/++wzde7cWfXq1VOdOnV04403av78+ed/4VAjlPazf+YyaNCgcusSExMlSatWrXJbHxAQoK5du+q7775zO55hGHrzzTfVrl071a1bV/Xr11fbtm01Y8YMHT9+XNKp91Fpx2rZsqW5nzPfF97e3rryyis1evRo5efnX5wLh0tOdna2hg8friuuuEJ2u12hoaHq27evvvzyS0mn3gPLli0rsV18fLw6d+5cYv2aNWvk4eGh3r17l2g71+9YZ/58l7ac+XvUTz/9pAEDBqhhw4ay2+1q3ry5nnvuOfP9hMohtMFyevfuraysLP3666964YUX9Prrr2vkyJFm+3//+19lZWVp3bp1uummm9S/f39lZGSUu09fX1/l5OSYvxSfNnfuXDVu3LhEvZ+fn7KystyWPXv2lNrP3bt36+2339ann36qoUOHXsCZo6bo37+/Nm3apAULFmjHjh365JNP1LlzZx06dMisOf1YkTOX4cOHm+2jRo3SwIEDdd111+mTTz7RTz/9pDfffFNXXnmlnnnmmUr37ciRI5o6deo562JjY5WVlaWff/5ZS5YsUevWrXXPPffo0UcfdaubOXOmbrvtNnXo0EHr1q3Tjz/+qHvuuUePPfaY2/saOO3Mn/kZM2aU+Dx+5ZVXzNp58+aVeJ/cfvvtbvvbvn27srKytGrVKjVs2FB9+vRRTk6O2R4TE6P4+Hjddttt+vrrr5Wenq7nnntOH3/8sZKTk826q6++usSxUlJS3I515vti8uTJeu2119z+4AFU1O7duxUREaGvvvpKkydP1ubNm5WUlKQuXbpo2LBhldrn3LlzNXz4cKWkpCgzM7PUmrJ+x/roo4/Mn/v169e71WZlZWnDhg2SpNTUVLVr104FBQVavny5duzYoQkTJmjBggXq0aOHCgoKKndBIBmAhTz44IPGbbfd5rbukUceMUJCQoxdu3YZkoyNGzeabXl5eYYk49VXXzXXzZs3z3A4HCVeP/HEE8Yjjzxirt+7d69ht9uNp59+2mjSpEmZ21e0nyNGjDAaNGhQ0VNFDZWbm2tIMlatWlVmTZMmTYzp06eX2b527VpDkvHKK6+U2l5cXGz+e+zYsca1115bZj++/vprwzAM8/315JNPGnXr1jUOHDhg1l577bXG2LFjzdedOnUy/vGPf5TY59y5cw1JxsqVKw3DMIzMzEzDy8vLGDFiRInaV1991ZBkpKamlnmeQHmfx5KMpUuXlrnt119/bUgycnNzzXU//vijIcn45JNPDMMwjMWLFxuSjGXLlpXYvri42Dh8+LBhGGW/j85U2vvizjvvNG644YZytwNK8/e//91o1KiRcfTo0RJtp3+my3oP/OMf/zA6derktu7o0aNGvXr1jG3bthkDBw40nn/+ebf2iv6OVVatYZx6z7Ru3dpo27atUVRU5NaWnp5u2Gw246WXXir/xFEmRtpgeT4+PiosLCyxvrCwUG+99ZYkycvL65z7GTx4sBYvXmwOz8+fP1+9e/dWcHDwBffx119/VVJSUoX6gZqtbt26qlu3rpYtW1bp26bef/991a1bt8yRXZvNVun+3Xvvvbrqqqs0fvz48972wQcflL+/v3mb5IcffqjCwsJSR9SGDBmiunXr6v333690X4Hzcfz4cc2bN0/S//t/xsKFCxUWFqbbbrutRP3pW8Qqa9OmTfruu+/4/wLO26FDh5SUlKRhw4bJ19e3RPuZXwGpqMWLFyssLExhYWG6//77NW/ePBnlPKr5fH/HkqT09HRt2bJFI0aMUK1a7hHj2muvVffu3fnMvwCENlja+vXrtWjRInXr1s1c16FDB9WtW1e1a9dWQkKCmjZtqgEDBpxzX9ddd52uvPJKffjhhzIMQ/Pnz9fDDz9caq3L5TJ/uT699OzZ063ms88+U926deXj46Mrr7xSW7Zs0ahRoy7shHHJ8/T01Pz587VgwQLVr19fHTt21DPPPKMff/zRrW7UqFElfgZPf/9sx44duuKKK+Tp6WnWT5s2za3W5XJVqn+nvzv35ptv6pdffjmvbWvVqqUWLVpo9+7dZj8dDocuu+yyErXe3t664oortGPHjkr1E5BO/ZHh7PfJr7/+6lZz+eWXm23Tp09XRESE+f+UnTt3KiwsrELH2rx5c4ljPfLII241r7/+uurWrSu73a7rrrtOBw8e1JNPPlk1J4sa4+eff5ZhGG7fmbxQ77zzju6//35Jp77ecfToUfO7cWeq7O9YkszP89LmEDi9ns/8yvM8dwlwcZ0OQ3/88YcKCwt12223aebMmeYI2eLFi9WyZUvt2LFD8fHxeuONN9SgQYMK7fvhhx/WvHnz1LhxYx09elS33nqrZs2aVaKuXr16+uGHH9zW+fj4uL3u0qWLZs+erePHj+vtt9/Wjh073L5zBJSlf//+6tOnj7799lutXbtWSUlJmjx5st5++21zkoUnn3zS/PdpjRo1Mv999mjaww8/rH79+mndunW6//77y/0L6rn06tVLf/vb3/Tcc89p0aJF57WtYRgVHuk7n1qgNNOnT1f37t3d1oWGhrq9/vbbb+Xr66uNGzdq1KhRmj9/vjlycD4/g2FhYfrkk0/c1tWrV8/t9X333ad//etfysvL06RJk+Tn56f+/fuf72mhhjv9+V1Vn4/bt2/X+vXrzbsgPD09NXDgQM2dO7fE++dCfsc6Fz7zLwyhDZZzOgx5eXnJ6XSa/3M9/df70NBQNW/eXM2bN1fdunXVv39/bdmyRUFBQefc93333aennnpK48aN0wMPPOA2UnGmWrVq6aqrrip3X76+vmbNq6++qi5duuj555/X//3f/53H2aKmql27tnr06KEePXpozJgxeuSRRzR27FgzqAUGBpb5M9i8eXOlpKSosLDQfH/Ur19f9evX1759+9xq/fz8Sh11O3z4sCSVefvXSy+9pMjIyPMaJSgqKtLOnTt14403SpJatGghl8ul/fv3y+l0utUWFBTo119/VdeuXSu8f+BsISEh5/ysbtasmerXr68WLVro5MmTuuOOO5SRkSG73a4WLVpo69atFTqWt7f3OY/lcDjMmvfee09XX3213nnnHQ0ePLhiJwTo1Ge8zWbT1q1bS0ysc6Z69eqV+fl+5mf7O++8oz/++MPtD3+GYcjLy0u5ubny9/c311/I71gtWrSQJG3ZsqXUWYu3bdum5s2bn3M/KB23R8JyToehJk2anPM+6k6dOik8PFwvvvhihfbdoEED9evXT6tXry7z1sjKGjt2rKZOnar9+/dX6X5RM7Ru3VrHjh2rUO29996ro0eP6vXXXz9nbcuWLbVv3z5lZ2e7rd+wYUO5f5y46aabdOedd+rpp5+uUJ8kacGCBcrNzTVHFvr37y9PT0+9/PLLJWrfeOMNHTt2TPfee2+F9w9cqJiYGBUXF5vvnejoaO3YsUMff/xxiVrDMCp9m7F06ntAzzzzjJ599lmmOsd5adCggXr16qXXXnut1P8vnP6jW8uWLc1ZG08zDENpaWnmbb9//PGH/v3vf+vll19Wenq6uWzatElNmjTRwoULy+zH+f6Odd1116lly5aaPn26iouL3do2bdqk//73v3zmXwBCG/7yEhISNGfOHP32228Vqp8/f77+97//lXuvuGEYys7OLrGc/SF0ps6dO+vqq6/WhAkTzvscUHP8/vvv6tq1q9577z39+OOP2rVrl/7zn/9o8uTJbpMhHDlypMTPX15eniQpMjJSCQkJSkhI0IgRI5SSkqI9e/YoNTVV77zzjmw2m/kl8J49e6pVq1a655579N1332nXrl36+OOPNXLkSD322GMlbu8604svvqivvvpK27dvL9F2/PhxZWdna9++fVq3bp1GjRqlxx57TI8//ri6dOkiSWrcuLEmT56sGTNm6F//+pe2bdumX375RdOmTdNTTz2lhIQEtWvXriovL2qYw4cPl3iflPfHj1q1aik+Pl4vvfSSjh8/rgEDBmjgwIG69957NXHiRH3//ffas2ePPvvsM3Xv3l1ff/21ue0ff/xR4lgHDhwot3/R0dGy2WwV+gMLcKbXX39dRUVFuummm7RkyRLt3LlTW7du1auvvqrIyEhJ0siRI/XOO+9o1qxZ2rFjhzZt2qQnnnhCv/zyi/lYgM8++0y5ubkaPHiwwsPD3Za77rpL77zzTrn9OJ/fsWw2m95++21t2bJF/fv31/r165WZman//Oc/6tu3ryIjIxUfH3/B16bGqpY5K4EylDaV/mnlTTEbFhZmPP7444ZhlD3lf1mmT59eYsp/SaUuWVlZ5fZz4cKFhre3t5GZmVmR00UNdPLkSePpp582brjhBsPhcBh16tQxwsLCjGeffdY4fvy4YRinpvwv7edvyJAhbvtavHix0blzZ8PhcBheXl7G5ZdfbkRHR5eYRj8rK8t46KGHjCZNmhg+Pj5Gy5YtjfHjxxsnT540a8p6fz366KOGpBJT/p/uk7e3t3HZZZcZUVFRxkcffVTqOX/88cfGzTffbPj6+hq1a9c2IiIijLlz517AVURNca4p/0tbJk6caBhG6VP+G8apqc/9/f2NSZMmGYZhGEVFRcbs2bONG2+80ahTp47h5+dnREREGK+88or5nhw7dmypx7Lb7eZ+y3oUxosvvmg0bNjQOHLkyIVfENQo+/fvN4YNG2Y0adLE8Pb2Nho1amT069fPfFSLYRhGYmKi0bZtW8PPz88ICgoyevXqZXz//fdme1RUlHHrrbeWuv+0tDRDkpGWllbh37EMo+z/X5z2448/Gv379zcCAgIMLy8v48orrzSeffZZ49ixY5W+FjAMm2FcwLfVAQAAAAB/Km6PBAAAAAALI7QBAAAAgIUR2gAAAADAwghtAAAAAGBhhDYAAAAAsDBCGwAAAABYGKENAAAAACyM0AYAAAAAFkZoAwCggubPn6/69etXdzcAADUMoQ0AUCPZbLZyl0GDBpXYZuDAgdqxY8fF7+wZCI4AUPN4VncHAACoDllZWea/Fy9erDFjxmj79u3mOh8fH7f6wsJC+fj4lFhvVQUFBfL29q7ubgAAqgAjbQCAGikkJMRcHA6HbDab+frkyZOqX7++PvjgA3Xu3Fm1a9fWe++9V2KUa9y4cbruuus0d+5cNW7cWHXr1tXjjz+uoqIiTZ48WSEhIQoKCtKLL77odmyXy6VHH31UQUFB8vPzU9euXbVp0yazfdOmTerSpYvq1asnPz8/RURE6Pvvv9eqVav00EMPyeVymSOC48aNkyQ1bdpUL7zwggYNGiSHw6HY2FhJ0po1a3TLLbfIx8dHoaGhiouL07Fjx/706wsAqDqENgAAyjBq1CjFxcVp69at6tWrV6k1v/zyiz7//HMlJSXp/fff19y5c9WnTx/t27dPq1ev1qRJk/Tss88qNTVVkmQYhvr06aPs7GytWLFCaWlpuuGGG9StWzcdOnRIknTffffp8ssv14YNG5SWlqann35aXl5e6tChg2bMmCE/Pz9lZWUpKytLI0eONPsyZcoUhYeHKy0tTc8995w2b96sXr166c4779SPP/6oxYsXKyUlRU888cSff/EAAFWG2yMBAChDfHy87rzzznJriouLNXfuXNWrV0+tW7dWly5dtH37dq1YsUK1atVSWFiYJk2apFWrVql9+/b6+uuvtXnzZuXk5Mhut0uSpk6dqmXLlunDDz/Uo48+qszMTD355JNq2bKlJKl58+bm8c4cFTxb165d3ULcAw88oOjoaMXHx5v7efXVV9WpUyfNnj1btWvXvtBLBAC4CAhtAACUoW3btuesadq0qerVq2e+Dg4OloeHh2rVquW2LicnR5KUlpamo0ePKiAgwG0/J06c0C+//CJJGjFihB555BG9++676t69u+6++25deeWV593ftLQ0/fzzz1q4cKG5zjAMFRcXa9euXWrVqtU59wkAqH6ENgAAyuDr63vOGi8vL7fXNput1HXFxcWSTo3MXXbZZVq1alWJfZ3+vty4ceMUHR2t5cuX6/PPP9fYsWOVmJioO+6447z6W1xcrCFDhiguLq5EbePGjc91agAAiyC0AQBwEd1www3Kzs6Wp6enmjZtWmZdixYt1KJFC/3zn//Uvffeq3nz5umOO+6Qt7e3ioqKKnysn376SVdddVUV9R4AUB2YiAQAgIuoe/fuioyM1O23364vvvhCu3fv1po1a/Tss8/q+++/14kTJ/TEE09o1apV2rNnj7777jtt2LDBvJWxadOmOnr0qL788kv973//0/Hjx8s81qhRo7R27VoNGzZM6enp2rlzpz755BMNHz78Yp0uAKAKENoAALiIbDabVqxYoVtuuUUPP/ywWrRooXvuuUe7d+82vw/3+++/64EHHlCLFi00YMAA/f3vf9fzzz8vSerQoYMee+wxDRw4UA0bNtTkyZPLPNY111yj1atXa+fOnbr55pt1/fXX67nnntNll112sU4XAFAFbIZhGNXdCQAAAABA6RhpAwAAAAALI7QBAAAAgIUR2gAAAADAwghtAAAAAGBhhDYAAAAAsDBCGwAAAABYGKENAAAAACyM0AYAAAAAFkZoAwAAAAALI7QBAAAAgIUR2gAAAADAwv4/Uhpgh/dvbDoAAAAASUVORK5CYII=\n",
      "text/plain": [
       "<Figure size 1000x500 with 1 Axes>"
      ]
     },
     "metadata": {},
     "output_type": "display_data"
    }
   ],
   "source": [
    "plt.figure(figsize=(10,5))\n",
    "orden = ['PRIMER', 'SEGUNDO', 'TERCER', 'CUARTO']\n",
    "sns.countplot(x='Trimestre', data=data, order = orden)\n",
    "\n",
    "plt.title('Trimestres', fontsize=20)\n",
    "plt.show()\n",
    "\n",
    "#Prestar atencion al desbalance de la clase 'Trimestre'"
   ]
  },
  {
   "cell_type": "markdown",
   "id": "54266519",
   "metadata": {},
   "source": [
    "## Observaciones:\n",
    "- Se observan mayor disponibilidad de departamentos a la venta durante el segundo trimestre del 2020"
   ]
  },
  {
   "cell_type": "markdown",
   "id": "abeed4fe",
   "metadata": {},
   "source": [
    "### **Elimino columnas innecesarias o que no conozco el significado**"
   ]
  },
  {
   "cell_type": "code",
   "execution_count": 20,
   "id": "68a61dc4",
   "metadata": {},
   "outputs": [],
   "source": [
    "to_drop = ['Direccion','PropiedadS','Cotizacion']"
   ]
  },
  {
   "cell_type": "code",
   "execution_count": 21,
   "id": "a7d26adc",
   "metadata": {},
   "outputs": [],
   "source": [
    "data.drop(to_drop, axis=1, inplace=True)"
   ]
  },
  {
   "cell_type": "code",
   "execution_count": 22,
   "id": "211dced3",
   "metadata": {},
   "outputs": [],
   "source": [
    "data = data.reindex(columns=['Barrio','Comunas','Ambientes','Trimestre','Pesos','Dolares','PesosM2', 'DolaresM2'])"
   ]
  },
  {
   "cell_type": "code",
   "execution_count": 23,
   "id": "002f19d4",
   "metadata": {},
   "outputs": [
    {
     "data": {
      "text/html": [
       "<div>\n",
       "<style scoped>\n",
       "    .dataframe tbody tr th:only-of-type {\n",
       "        vertical-align: middle;\n",
       "    }\n",
       "\n",
       "    .dataframe tbody tr th {\n",
       "        vertical-align: top;\n",
       "    }\n",
       "\n",
       "    .dataframe thead th {\n",
       "        text-align: right;\n",
       "    }\n",
       "</style>\n",
       "<table border=\"1\" class=\"dataframe\">\n",
       "  <thead>\n",
       "    <tr style=\"text-align: right;\">\n",
       "      <th></th>\n",
       "      <th>Barrio</th>\n",
       "      <th>Comunas</th>\n",
       "      <th>Ambientes</th>\n",
       "      <th>Trimestre</th>\n",
       "      <th>Pesos</th>\n",
       "      <th>Dolares</th>\n",
       "      <th>PesosM2</th>\n",
       "      <th>DolaresM2</th>\n",
       "    </tr>\n",
       "  </thead>\n",
       "  <tbody>\n",
       "    <tr>\n",
       "      <th>0</th>\n",
       "      <td>ALMAGRO</td>\n",
       "      <td>5</td>\n",
       "      <td>1</td>\n",
       "      <td>SEGUNDO</td>\n",
       "      <td>3513600</td>\n",
       "      <td>54900</td>\n",
       "      <td>206682</td>\n",
       "      <td>3229</td>\n",
       "    </tr>\n",
       "    <tr>\n",
       "      <th>1</th>\n",
       "      <td>ALMAGRO</td>\n",
       "      <td>5</td>\n",
       "      <td>1</td>\n",
       "      <td>SEGUNDO</td>\n",
       "      <td>3392000</td>\n",
       "      <td>53000</td>\n",
       "      <td>188444</td>\n",
       "      <td>2944</td>\n",
       "    </tr>\n",
       "    <tr>\n",
       "      <th>2</th>\n",
       "      <td>ALMAGRO</td>\n",
       "      <td>5</td>\n",
       "      <td>1</td>\n",
       "      <td>SEGUNDO</td>\n",
       "      <td>2880000</td>\n",
       "      <td>45000</td>\n",
       "      <td>160000</td>\n",
       "      <td>2500</td>\n",
       "    </tr>\n",
       "    <tr>\n",
       "      <th>3</th>\n",
       "      <td>ALMAGRO</td>\n",
       "      <td>5</td>\n",
       "      <td>1</td>\n",
       "      <td>SEGUNDO</td>\n",
       "      <td>2624000</td>\n",
       "      <td>41000</td>\n",
       "      <td>145778</td>\n",
       "      <td>2278</td>\n",
       "    </tr>\n",
       "    <tr>\n",
       "      <th>4</th>\n",
       "      <td>ALMAGRO</td>\n",
       "      <td>5</td>\n",
       "      <td>1</td>\n",
       "      <td>SEGUNDO</td>\n",
       "      <td>3769600</td>\n",
       "      <td>58900</td>\n",
       "      <td>209422</td>\n",
       "      <td>3272</td>\n",
       "    </tr>\n",
       "  </tbody>\n",
       "</table>\n",
       "</div>"
      ],
      "text/plain": [
       "    Barrio Comunas Ambientes Trimestre    Pesos Dolares PesosM2 DolaresM2\n",
       "0  ALMAGRO       5         1   SEGUNDO  3513600   54900  206682      3229\n",
       "1  ALMAGRO       5         1   SEGUNDO  3392000   53000  188444      2944\n",
       "2  ALMAGRO       5         1   SEGUNDO  2880000   45000  160000      2500\n",
       "3  ALMAGRO       5         1   SEGUNDO  2624000   41000  145778      2278\n",
       "4  ALMAGRO       5         1   SEGUNDO  3769600   58900  209422      3272"
      ]
     },
     "execution_count": 23,
     "metadata": {},
     "output_type": "execute_result"
    }
   ],
   "source": [
    "data.head()"
   ]
  },
  {
   "cell_type": "markdown",
   "id": "9f1f7602",
   "metadata": {},
   "source": [
    "### Dolares - Pesos"
   ]
  },
  {
   "cell_type": "code",
   "execution_count": 24,
   "id": "f0aa3432",
   "metadata": {},
   "outputs": [
    {
     "data": {
      "text/plain": [
       "17000000"
      ]
     },
     "execution_count": 24,
     "metadata": {},
     "output_type": "execute_result"
    }
   ],
   "source": [
    "data['Dolares'].max()"
   ]
  },
  {
   "cell_type": "code",
   "execution_count": 25,
   "id": "291661c1",
   "metadata": {},
   "outputs": [
    {
     "data": {
      "text/plain": [
       "7200"
      ]
     },
     "execution_count": 25,
     "metadata": {},
     "output_type": "execute_result"
    }
   ],
   "source": [
    "data['Dolares'].min()"
   ]
  },
  {
   "cell_type": "code",
   "execution_count": 26,
   "id": "92309d79",
   "metadata": {},
   "outputs": [
    {
     "data": {
      "text/plain": [
       "1088000000"
      ]
     },
     "execution_count": 26,
     "metadata": {},
     "output_type": "execute_result"
    }
   ],
   "source": [
    "data['Pesos'].max()"
   ]
  },
  {
   "cell_type": "code",
   "execution_count": 27,
   "id": "a5f2bc11",
   "metadata": {},
   "outputs": [
    {
     "data": {
      "text/plain": [
       "439200"
      ]
     },
     "execution_count": 27,
     "metadata": {},
     "output_type": "execute_result"
    }
   ],
   "source": [
    "data['Pesos'].min()"
   ]
  },
  {
   "cell_type": "code",
   "execution_count": 28,
   "id": "0ae1362f",
   "metadata": {},
   "outputs": [
    {
     "data": {
      "text/html": [
       "<div>\n",
       "<style scoped>\n",
       "    .dataframe tbody tr th:only-of-type {\n",
       "        vertical-align: middle;\n",
       "    }\n",
       "\n",
       "    .dataframe tbody tr th {\n",
       "        vertical-align: top;\n",
       "    }\n",
       "\n",
       "    .dataframe thead th {\n",
       "        text-align: right;\n",
       "    }\n",
       "</style>\n",
       "<table border=\"1\" class=\"dataframe\">\n",
       "  <thead>\n",
       "    <tr style=\"text-align: right;\">\n",
       "      <th></th>\n",
       "      <th>Barrio</th>\n",
       "      <th>Comunas</th>\n",
       "      <th>Ambientes</th>\n",
       "      <th>Trimestre</th>\n",
       "      <th>Pesos</th>\n",
       "      <th>Dolares</th>\n",
       "      <th>PesosM2</th>\n",
       "      <th>DolaresM2</th>\n",
       "    </tr>\n",
       "  </thead>\n",
       "  <tbody>\n",
       "    <tr>\n",
       "      <th>46215</th>\n",
       "      <td>RECOLETA</td>\n",
       "      <td>2</td>\n",
       "      <td>6</td>\n",
       "      <td>SEGUNDO</td>\n",
       "      <td>1088000000</td>\n",
       "      <td>17000000</td>\n",
       "      <td>362667</td>\n",
       "      <td>5667</td>\n",
       "    </tr>\n",
       "  </tbody>\n",
       "</table>\n",
       "</div>"
      ],
      "text/plain": [
       "         Barrio Comunas Ambientes Trimestre       Pesos   Dolares PesosM2  \\\n",
       "46215  RECOLETA       2         6   SEGUNDO  1088000000  17000000  362667   \n",
       "\n",
       "      DolaresM2  \n",
       "46215      5667  "
      ]
     },
     "execution_count": 28,
     "metadata": {},
     "output_type": "execute_result"
    }
   ],
   "source": [
    "precio_max = data.loc[data['Pesos'] == 1088000000]\n",
    "precio_max"
   ]
  },
  {
   "cell_type": "code",
   "execution_count": 29,
   "id": "17e6a997",
   "metadata": {},
   "outputs": [
    {
     "data": {
      "text/html": [
       "<div>\n",
       "<style scoped>\n",
       "    .dataframe tbody tr th:only-of-type {\n",
       "        vertical-align: middle;\n",
       "    }\n",
       "\n",
       "    .dataframe tbody tr th {\n",
       "        vertical-align: top;\n",
       "    }\n",
       "\n",
       "    .dataframe thead th {\n",
       "        text-align: right;\n",
       "    }\n",
       "</style>\n",
       "<table border=\"1\" class=\"dataframe\">\n",
       "  <thead>\n",
       "    <tr style=\"text-align: right;\">\n",
       "      <th></th>\n",
       "      <th>Barrio</th>\n",
       "      <th>Comunas</th>\n",
       "      <th>Ambientes</th>\n",
       "      <th>Trimestre</th>\n",
       "      <th>Pesos</th>\n",
       "      <th>Dolares</th>\n",
       "      <th>PesosM2</th>\n",
       "      <th>DolaresM2</th>\n",
       "    </tr>\n",
       "  </thead>\n",
       "  <tbody>\n",
       "    <tr>\n",
       "      <th>142254</th>\n",
       "      <td>PARQUE CHACABUCO</td>\n",
       "      <td>7</td>\n",
       "      <td>2</td>\n",
       "      <td>PRIMER</td>\n",
       "      <td>439200</td>\n",
       "      <td>7200</td>\n",
       "      <td>12566</td>\n",
       "      <td>206</td>\n",
       "    </tr>\n",
       "    <tr>\n",
       "      <th>147304</th>\n",
       "      <td>PARQUE CHACABUCO</td>\n",
       "      <td>7</td>\n",
       "      <td>1</td>\n",
       "      <td>PRIMER</td>\n",
       "      <td>439200</td>\n",
       "      <td>7200</td>\n",
       "      <td>12566</td>\n",
       "      <td>206</td>\n",
       "    </tr>\n",
       "  </tbody>\n",
       "</table>\n",
       "</div>"
      ],
      "text/plain": [
       "                  Barrio Comunas Ambientes Trimestre   Pesos Dolares PesosM2  \\\n",
       "142254  PARQUE CHACABUCO       7         2    PRIMER  439200    7200   12566   \n",
       "147304  PARQUE CHACABUCO       7         1    PRIMER  439200    7200   12566   \n",
       "\n",
       "       DolaresM2  \n",
       "142254       206  \n",
       "147304       206  "
      ]
     },
     "execution_count": 29,
     "metadata": {},
     "output_type": "execute_result"
    }
   ],
   "source": [
    "precio_min = data.loc[data['Pesos'] == 439200]\n",
    "precio_min"
   ]
  },
  {
   "cell_type": "code",
   "execution_count": 30,
   "id": "0ca10bbb",
   "metadata": {},
   "outputs": [
    {
     "data": {
      "text/html": [
       "<div>\n",
       "<style scoped>\n",
       "    .dataframe tbody tr th:only-of-type {\n",
       "        vertical-align: middle;\n",
       "    }\n",
       "\n",
       "    .dataframe tbody tr th {\n",
       "        vertical-align: top;\n",
       "    }\n",
       "\n",
       "    .dataframe thead th {\n",
       "        text-align: right;\n",
       "    }\n",
       "</style>\n",
       "<table border=\"1\" class=\"dataframe\">\n",
       "  <thead>\n",
       "    <tr style=\"text-align: right;\">\n",
       "      <th></th>\n",
       "      <th>Barrio</th>\n",
       "      <th>Comunas</th>\n",
       "      <th>Ambientes</th>\n",
       "      <th>Trimestre</th>\n",
       "      <th>Pesos</th>\n",
       "      <th>Dolares</th>\n",
       "      <th>PesosM2</th>\n",
       "      <th>DolaresM2</th>\n",
       "    </tr>\n",
       "  </thead>\n",
       "  <tbody>\n",
       "    <tr>\n",
       "      <th>142254</th>\n",
       "      <td>PARQUE CHACABUCO</td>\n",
       "      <td>7</td>\n",
       "      <td>2</td>\n",
       "      <td>PRIMER</td>\n",
       "      <td>439200</td>\n",
       "      <td>7200</td>\n",
       "      <td>12566</td>\n",
       "      <td>206</td>\n",
       "    </tr>\n",
       "    <tr>\n",
       "      <th>147304</th>\n",
       "      <td>PARQUE CHACABUCO</td>\n",
       "      <td>7</td>\n",
       "      <td>1</td>\n",
       "      <td>PRIMER</td>\n",
       "      <td>439200</td>\n",
       "      <td>7200</td>\n",
       "      <td>12566</td>\n",
       "      <td>206</td>\n",
       "    </tr>\n",
       "  </tbody>\n",
       "</table>\n",
       "</div>"
      ],
      "text/plain": [
       "                  Barrio Comunas Ambientes Trimestre   Pesos Dolares PesosM2  \\\n",
       "142254  PARQUE CHACABUCO       7         2    PRIMER  439200    7200   12566   \n",
       "147304  PARQUE CHACABUCO       7         1    PRIMER  439200    7200   12566   \n",
       "\n",
       "       DolaresM2  \n",
       "142254       206  \n",
       "147304       206  "
      ]
     },
     "execution_count": 30,
     "metadata": {},
     "output_type": "execute_result"
    }
   ],
   "source": [
    "precio_min = data.loc[data['Dolares'] == 7200]\n",
    "precio_min"
   ]
  },
  {
   "cell_type": "code",
   "execution_count": 31,
   "id": "f2488bb6",
   "metadata": {},
   "outputs": [
    {
     "data": {
      "text/plain": [
       "4721354"
      ]
     },
     "execution_count": 31,
     "metadata": {},
     "output_type": "execute_result"
    }
   ],
   "source": [
    "data['PesosM2'].max()"
   ]
  },
  {
   "cell_type": "code",
   "execution_count": 32,
   "id": "f0916943",
   "metadata": {},
   "outputs": [
    {
     "data": {
      "text/plain": [
       "9205"
      ]
     },
     "execution_count": 32,
     "metadata": {},
     "output_type": "execute_result"
    }
   ],
   "source": [
    "data['PesosM2'].min()"
   ]
  },
  {
   "cell_type": "code",
   "execution_count": 33,
   "id": "d9eeb099",
   "metadata": {},
   "outputs": [
    {
     "data": {
      "text/plain": [
       "72917"
      ]
     },
     "execution_count": 33,
     "metadata": {},
     "output_type": "execute_result"
    }
   ],
   "source": [
    "data['DolaresM2'].max()"
   ]
  },
  {
   "cell_type": "code",
   "execution_count": 34,
   "id": "eaf136f9",
   "metadata": {},
   "outputs": [
    {
     "data": {
      "text/plain": [
       "147"
      ]
     },
     "execution_count": 34,
     "metadata": {},
     "output_type": "execute_result"
    }
   ],
   "source": [
    "data['DolaresM2'].min()"
   ]
  },
  {
   "cell_type": "code",
   "execution_count": 35,
   "id": "b7bc0cb7",
   "metadata": {},
   "outputs": [
    {
     "data": {
      "text/html": [
       "<div>\n",
       "<style scoped>\n",
       "    .dataframe tbody tr th:only-of-type {\n",
       "        vertical-align: middle;\n",
       "    }\n",
       "\n",
       "    .dataframe tbody tr th {\n",
       "        vertical-align: top;\n",
       "    }\n",
       "\n",
       "    .dataframe thead th {\n",
       "        text-align: right;\n",
       "    }\n",
       "</style>\n",
       "<table border=\"1\" class=\"dataframe\">\n",
       "  <thead>\n",
       "    <tr style=\"text-align: right;\">\n",
       "      <th></th>\n",
       "      <th>Barrio</th>\n",
       "      <th>Comunas</th>\n",
       "      <th>Ambientes</th>\n",
       "      <th>Trimestre</th>\n",
       "      <th>Pesos</th>\n",
       "      <th>Dolares</th>\n",
       "      <th>PesosM2</th>\n",
       "      <th>DolaresM2</th>\n",
       "    </tr>\n",
       "  </thead>\n",
       "  <tbody>\n",
       "    <tr>\n",
       "      <th>141867</th>\n",
       "      <td>RETIRO</td>\n",
       "      <td>1</td>\n",
       "      <td>7</td>\n",
       "      <td>PRIMER</td>\n",
       "      <td>226625000</td>\n",
       "      <td>3500000</td>\n",
       "      <td>4721354</td>\n",
       "      <td>72917</td>\n",
       "    </tr>\n",
       "  </tbody>\n",
       "</table>\n",
       "</div>"
      ],
      "text/plain": [
       "        Barrio Comunas Ambientes Trimestre      Pesos  Dolares  PesosM2  \\\n",
       "141867  RETIRO       1         7    PRIMER  226625000  3500000  4721354   \n",
       "\n",
       "       DolaresM2  \n",
       "141867     72917  "
      ]
     },
     "execution_count": 35,
     "metadata": {},
     "output_type": "execute_result"
    }
   ],
   "source": [
    "precio_M2_max =  data.loc[data['PesosM2'] == 4721354]\n",
    "precio_M2_max"
   ]
  },
  {
   "cell_type": "code",
   "execution_count": 36,
   "id": "e13363c2",
   "metadata": {},
   "outputs": [
    {
     "data": {
      "text/html": [
       "<div>\n",
       "<style scoped>\n",
       "    .dataframe tbody tr th:only-of-type {\n",
       "        vertical-align: middle;\n",
       "    }\n",
       "\n",
       "    .dataframe tbody tr th {\n",
       "        vertical-align: top;\n",
       "    }\n",
       "\n",
       "    .dataframe thead th {\n",
       "        text-align: right;\n",
       "    }\n",
       "</style>\n",
       "<table border=\"1\" class=\"dataframe\">\n",
       "  <thead>\n",
       "    <tr style=\"text-align: right;\">\n",
       "      <th></th>\n",
       "      <th>Barrio</th>\n",
       "      <th>Comunas</th>\n",
       "      <th>Ambientes</th>\n",
       "      <th>Trimestre</th>\n",
       "      <th>Pesos</th>\n",
       "      <th>Dolares</th>\n",
       "      <th>PesosM2</th>\n",
       "      <th>DolaresM2</th>\n",
       "    </tr>\n",
       "  </thead>\n",
       "  <tbody>\n",
       "    <tr>\n",
       "      <th>139082</th>\n",
       "      <td>BALVANERA</td>\n",
       "      <td>3</td>\n",
       "      <td>3</td>\n",
       "      <td>PRIMER</td>\n",
       "      <td>5937500</td>\n",
       "      <td>95000</td>\n",
       "      <td>9205</td>\n",
       "      <td>147</td>\n",
       "    </tr>\n",
       "  </tbody>\n",
       "</table>\n",
       "</div>"
      ],
      "text/plain": [
       "           Barrio Comunas Ambientes Trimestre    Pesos Dolares PesosM2  \\\n",
       "139082  BALVANERA       3         3    PRIMER  5937500   95000    9205   \n",
       "\n",
       "       DolaresM2  \n",
       "139082       147  "
      ]
     },
     "execution_count": 36,
     "metadata": {},
     "output_type": "execute_result"
    }
   ],
   "source": [
    "precio_M2_min =  data.loc[data['DolaresM2'] == 147]\n",
    "precio_M2_min"
   ]
  },
  {
   "cell_type": "markdown",
   "id": "60687c21",
   "metadata": {},
   "source": [
    "### Observaciones:\n",
    "- A los valores maximos de las variables Pesos y Dolares le corresponden las mismas propiedades.\n",
    "- A los valores minimos de las variables Pesos y Dolares le corresponden las mimas promiedades.\n",
    "\n",
    "- A los valores maximos de las variables PesosM2 y DolaresM2 le corresponden las mismas propiedades.\n",
    "- A los valores minimos de las variables PesosM2 y DolaresM2 le corresponden las mimas promiedades\n"
   ]
  },
  {
   "cell_type": "markdown",
   "id": "e5eef59c",
   "metadata": {},
   "source": [
    "### Reagrupo los valores de las variables 'Pesos' 'Dolares' 'PesosM2' y 'DolaresM2' en intervalos: "
   ]
  },
  {
   "cell_type": "markdown",
   "id": "0f5b0460",
   "metadata": {},
   "source": [
    "### **Pesos**"
   ]
  },
  {
   "cell_type": "code",
   "execution_count": 37,
   "id": "37d21872",
   "metadata": {},
   "outputs": [],
   "source": [
    "data.loc[:, 'Rango_Pesos'] = '<1M'\n",
    "data.loc[(data['Pesos']>= 1000000) & (data['Pesos'] < 5000000), 'Rango_Pesos'] = '1M - 5M'\n",
    "data.loc[(data['Pesos']>= 5000000) & (data['Pesos'] < 10000000), 'Rango_Pesos'] = '5M - 10M'\n",
    "data.loc[(data['Pesos']>= 10000000) & (data['Pesos'] < 20000000), 'Rango_Pesos'] = '10M - 20M'\n",
    "data.loc[(data['Pesos']>= 20000000) & (data['Pesos'] < 50000000), 'Rango_Pesos'] = '20M - 50M'\n",
    "data.loc[(data['Pesos']>= 50000000) & (data['Pesos'] < 100000000), 'Rango_Pesos'] = '50M - 100M'\n",
    "data.loc[(data['Pesos']>= 100000000) & (data['Pesos'] < 3000000000), 'Rango_Pesos'] = '100M - 300M'\n",
    "data.loc[(data['Pesos']>= 300000000) & (data['Pesos'] < 7000000000), 'Rango_Pesos'] = '300M - 700M'\n",
    "                "
   ]
  },
  {
   "cell_type": "code",
   "execution_count": 38,
   "id": "0f4b9028",
   "metadata": {},
   "outputs": [
    {
     "data": {
      "text/plain": [
       "array(['1M - 5M', '5M - 10M', '10M - 20M', '20M - 50M', '50M - 100M',\n",
       "       '100M - 300M', '300M - 700M', '<1M'], dtype=object)"
      ]
     },
     "execution_count": 38,
     "metadata": {},
     "output_type": "execute_result"
    }
   ],
   "source": [
    "data['Rango_Pesos'].unique()"
   ]
  },
  {
   "cell_type": "code",
   "execution_count": 39,
   "id": "e09ecd15",
   "metadata": {},
   "outputs": [
    {
     "data": {
      "text/plain": [
       "5M - 10M       66263\n",
       "10M - 20M      53249\n",
       "20M - 50M      19914\n",
       "1M - 5M        10014\n",
       "50M - 100M      3348\n",
       "100M - 300M      870\n",
       "300M - 700M       25\n",
       "<1M                4\n",
       "Name: Rango_Pesos, dtype: int64"
      ]
     },
     "execution_count": 39,
     "metadata": {},
     "output_type": "execute_result"
    }
   ],
   "source": [
    "data['Rango_Pesos'].value_counts()"
   ]
  },
  {
   "cell_type": "code",
   "execution_count": 40,
   "id": "67fa6b97",
   "metadata": {},
   "outputs": [
    {
     "data": {
      "image/png": "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\n",
      "text/plain": [
       "<Figure size 1000x500 with 1 Axes>"
      ]
     },
     "metadata": {},
     "output_type": "display_data"
    }
   ],
   "source": [
    "plt.figure(figsize=(10,5))\n",
    "\n",
    "orden = ['<1M', '1M - 20M', '20M - 50M', '50M - 100M', '100M - 300M', '300M - 700M']\n",
    "sns.countplot(x='Rango_Pesos', data=data, order = orden)\n",
    "\n",
    "plt.show()"
   ]
  },
  {
   "cell_type": "markdown",
   "id": "af25d479",
   "metadata": {},
   "source": [
    "## Observaciones:\n",
    "- El rango mayor de precios en pesos es entre 20M - 50M"
   ]
  },
  {
   "cell_type": "code",
   "execution_count": 41,
   "id": "dd86f433",
   "metadata": {},
   "outputs": [
    {
     "data": {
      "image/png": "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\n",
      "text/plain": [
       "<Figure size 1000x500 with 1 Axes>"
      ]
     },
     "metadata": {},
     "output_type": "display_data"
    }
   ],
   "source": [
    "plt.figure(figsize=(10,5))\n",
    "\n",
    "sns.countplot(y='Rango_Pesos',\n",
    "              hue='Trimestre',\n",
    "              data=data,\n",
    "               )\n",
    "\n",
    "plt.xticks(rotation=30)\n",
    "plt.show()"
   ]
  },
  {
   "cell_type": "markdown",
   "id": "02bb01e4",
   "metadata": {},
   "source": [
    "## Observaciones:\n",
    "- El rango de precios en pesos por trimestre con mas cantidad de departamentos es entre 5M - 10M  y 10M - 20M"
   ]
  },
  {
   "cell_type": "markdown",
   "id": "f63a5bee",
   "metadata": {},
   "source": [
    "### **Dolares**"
   ]
  },
  {
   "cell_type": "code",
   "execution_count": 42,
   "id": "925b2ff4",
   "metadata": {},
   "outputs": [],
   "source": [
    "data.loc[:, 'Rango_Dolares'] = '<1M'\n",
    "data.loc[(data['Dolares']>=1000000) & (data['Dolares'] < 2000000), 'Rango_Dolares'] = '1M - 2M'\n",
    "data.loc[(data['Dolares']>=2000000) & (data['Dolares'] < 4000000), 'Rango_Dolares'] = '2M - 4M'\n",
    "data.loc[(data['Dolares']>=4000000) & (data['Dolares'] < 8000000), 'Rango_Dolares'] = '4M - 8M'\n",
    "data.loc[(data['Dolares']>=8000000), 'Rango_Dolares'] = '>10M'\n"
   ]
  },
  {
   "cell_type": "code",
   "execution_count": 43,
   "id": "7c731708",
   "metadata": {},
   "outputs": [
    {
     "data": {
      "text/plain": [
       "<1M        151533\n",
       "1M - 2M      1761\n",
       "2M - 4M       363\n",
       "4M - 8M        29\n",
       ">10M            1\n",
       "Name: Rango_Dolares, dtype: int64"
      ]
     },
     "execution_count": 43,
     "metadata": {},
     "output_type": "execute_result"
    }
   ],
   "source": [
    "data['Rango_Dolares'].value_counts()"
   ]
  },
  {
   "cell_type": "code",
   "execution_count": 44,
   "id": "2b6d6895",
   "metadata": {},
   "outputs": [
    {
     "data": {
      "image/png": "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\n",
      "text/plain": [
       "<Figure size 1000x500 with 1 Axes>"
      ]
     },
     "metadata": {},
     "output_type": "display_data"
    }
   ],
   "source": [
    "plt.figure(figsize=(10,5))\n",
    "\n",
    "orden = ['<1M', '1M - 2M', '2M - 4M', '4M - 8M', '>10M']\n",
    "sns.countplot(x='Rango_Dolares', data=data, order = orden)\n",
    "\n",
    "plt.show()"
   ]
  },
  {
   "cell_type": "markdown",
   "id": "b234e191",
   "metadata": {},
   "source": [
    "## Observaciones:\n",
    "- El rango en dolares con mas deptos disponibles es menor a 1M"
   ]
  },
  {
   "cell_type": "markdown",
   "id": "2750141e",
   "metadata": {},
   "source": [
    "### **PesosM2**"
   ]
  },
  {
   "cell_type": "code",
   "execution_count": 45,
   "id": "7a281942",
   "metadata": {},
   "outputs": [],
   "source": [
    "data.loc[:, 'Rango_PesosM2'] = '<50K'\n",
    "data.loc[(data['PesosM2']>=50000) & (data['PesosM2'] < 200000), 'Rango_PesosM2'] = '50K - 200K'\n",
    "data.loc[(data['PesosM2']>=200000) & (data['PesosM2'] < 400000), 'Rango_PesosM2'] = '200K - 400K'\n",
    "data.loc[(data['PesosM2']>=400000) & (data['PesosM2'] < 600000), 'Rango_PesosM2'] = '400K - 600K'\n",
    "data.loc[(data['PesosM2']>=600000) & (data['PesosM2'] < 1000000), 'Rango_PesosM2'] = '600K - 1M'\n",
    "data.loc[(data['PesosM2']>=1000000) & (data['PesosM2'] < 5000000), 'Rango_PesosM2'] = '1M - 5M'"
   ]
  },
  {
   "cell_type": "code",
   "execution_count": 46,
   "id": "94699514",
   "metadata": {},
   "outputs": [
    {
     "data": {
      "text/plain": [
       "50K - 200K     93842\n",
       "200K - 400K    57067\n",
       "400K - 600K     2259\n",
       "600K - 1M        323\n",
       "<50K             190\n",
       "1M - 5M            6\n",
       "Name: Rango_PesosM2, dtype: int64"
      ]
     },
     "execution_count": 46,
     "metadata": {},
     "output_type": "execute_result"
    }
   ],
   "source": [
    "data['Rango_PesosM2'].value_counts()"
   ]
  },
  {
   "cell_type": "code",
   "execution_count": 47,
   "id": "1ff29eb6",
   "metadata": {},
   "outputs": [
    {
     "data": {
      "image/png": "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\n",
      "text/plain": [
       "<Figure size 1500x1000 with 1 Axes>"
      ]
     },
     "metadata": {},
     "output_type": "display_data"
    }
   ],
   "source": [
    "plt.figure(figsize=(15,10))\n",
    "\n",
    "orden = ['<50K', '50K - 200K', '200K - 400K', '400K - 600K', '600K - 1M', '1M - 5M']\n",
    "sns.countplot(y='Rango_PesosM2', data=data, order = orden, hue='Ambientes')\n",
    "\n",
    "plt.show()"
   ]
  },
  {
   "cell_type": "markdown",
   "id": "88467e82",
   "metadata": {},
   "source": [
    "## Observaciones:\n",
    "- Los departamentos en venta con valor en pesosM2 entre 50K - 200K poseen 2 ambientes, seguidos por 3 ambientes y luego 1 ambiente\n",
    "- Lo mismo ocurre para deptos con valor en pesosM2 entre 200K - 400K, la mayor cantidad posee 2 ambintes y luego 3 ambientes y 1 ambinete"
   ]
  },
  {
   "cell_type": "markdown",
   "id": "31b44cc9",
   "metadata": {},
   "source": [
    "### **DolaresM2**"
   ]
  },
  {
   "cell_type": "code",
   "execution_count": 48,
   "id": "f31c95a5",
   "metadata": {},
   "outputs": [],
   "source": [
    "data.loc[:, 'Rango_DolaresM2'] = '<5K'\n",
    "data.loc[(data['DolaresM2']>=5000) & (data['DolaresM2'] < 10000), 'Rango_DolaresM2'] = '5K - 10K'\n",
    "data.loc[(data['DolaresM2']>=10000) & (data['DolaresM2'] < 20000), 'Rango_DolaresM2'] = '10K - 20K'\n",
    "data.loc[data['DolaresM2']>=20000 , 'Rango_DolaresM2'] = '<20K'"
   ]
  },
  {
   "cell_type": "code",
   "execution_count": 49,
   "id": "4e912efb",
   "metadata": {},
   "outputs": [
    {
     "data": {
      "text/plain": [
       "<5K          147852\n",
       "5K - 10K       5663\n",
       "10K - 20K       169\n",
       "<20K              3\n",
       "Name: Rango_DolaresM2, dtype: int64"
      ]
     },
     "execution_count": 49,
     "metadata": {},
     "output_type": "execute_result"
    }
   ],
   "source": [
    "data['Rango_DolaresM2'].value_counts()"
   ]
  },
  {
   "cell_type": "code",
   "execution_count": 55,
   "id": "2e0a8a0c",
   "metadata": {},
   "outputs": [
    {
     "data": {
      "image/png": "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\n",
      "text/plain": [
       "<Figure size 1000x500 with 1 Axes>"
      ]
     },
     "metadata": {},
     "output_type": "display_data"
    }
   ],
   "source": [
    "plt.figure(figsize=(10,5))\n",
    "\n",
    "sns.countplot(x='Rango_DolaresM2', data=data, hue='Ambientes')\n",
    "\n",
    "plt.show()"
   ]
  },
  {
   "cell_type": "markdown",
   "id": "fcd6a98d",
   "metadata": {},
   "source": [
    "## Observaciones:\n",
    "- Los deptos con precio en dolaresM2 menor a 5K poseen 2 ambientes, seguido por 3 ambientes"
   ]
  },
  {
   "cell_type": "code",
   "execution_count": 51,
   "id": "a4fe4b9b",
   "metadata": {},
   "outputs": [],
   "source": [
    "data.drop(columns=['Pesos', 'Dolares', 'PesosM2', 'DolaresM2'], axis=1, inplace=True)"
   ]
  },
  {
   "cell_type": "code",
   "execution_count": 52,
   "id": "2cd69b66",
   "metadata": {},
   "outputs": [
    {
     "data": {
      "text/html": [
       "<div>\n",
       "<style scoped>\n",
       "    .dataframe tbody tr th:only-of-type {\n",
       "        vertical-align: middle;\n",
       "    }\n",
       "\n",
       "    .dataframe tbody tr th {\n",
       "        vertical-align: top;\n",
       "    }\n",
       "\n",
       "    .dataframe thead th {\n",
       "        text-align: right;\n",
       "    }\n",
       "</style>\n",
       "<table border=\"1\" class=\"dataframe\">\n",
       "  <thead>\n",
       "    <tr style=\"text-align: right;\">\n",
       "      <th></th>\n",
       "      <th>Barrio</th>\n",
       "      <th>Comunas</th>\n",
       "      <th>Ambientes</th>\n",
       "      <th>Trimestre</th>\n",
       "      <th>Rango_Pesos</th>\n",
       "      <th>Rango_Dolares</th>\n",
       "      <th>Rango_PesosM2</th>\n",
       "      <th>Rango_DolaresM2</th>\n",
       "    </tr>\n",
       "  </thead>\n",
       "  <tbody>\n",
       "    <tr>\n",
       "      <th>0</th>\n",
       "      <td>ALMAGRO</td>\n",
       "      <td>5</td>\n",
       "      <td>1</td>\n",
       "      <td>SEGUNDO</td>\n",
       "      <td>1M - 5M</td>\n",
       "      <td>&lt;1M</td>\n",
       "      <td>200K - 400K</td>\n",
       "      <td>&lt;5K</td>\n",
       "    </tr>\n",
       "    <tr>\n",
       "      <th>1</th>\n",
       "      <td>ALMAGRO</td>\n",
       "      <td>5</td>\n",
       "      <td>1</td>\n",
       "      <td>SEGUNDO</td>\n",
       "      <td>1M - 5M</td>\n",
       "      <td>&lt;1M</td>\n",
       "      <td>50K - 200K</td>\n",
       "      <td>&lt;5K</td>\n",
       "    </tr>\n",
       "    <tr>\n",
       "      <th>2</th>\n",
       "      <td>ALMAGRO</td>\n",
       "      <td>5</td>\n",
       "      <td>1</td>\n",
       "      <td>SEGUNDO</td>\n",
       "      <td>1M - 5M</td>\n",
       "      <td>&lt;1M</td>\n",
       "      <td>50K - 200K</td>\n",
       "      <td>&lt;5K</td>\n",
       "    </tr>\n",
       "    <tr>\n",
       "      <th>3</th>\n",
       "      <td>ALMAGRO</td>\n",
       "      <td>5</td>\n",
       "      <td>1</td>\n",
       "      <td>SEGUNDO</td>\n",
       "      <td>1M - 5M</td>\n",
       "      <td>&lt;1M</td>\n",
       "      <td>50K - 200K</td>\n",
       "      <td>&lt;5K</td>\n",
       "    </tr>\n",
       "    <tr>\n",
       "      <th>4</th>\n",
       "      <td>ALMAGRO</td>\n",
       "      <td>5</td>\n",
       "      <td>1</td>\n",
       "      <td>SEGUNDO</td>\n",
       "      <td>1M - 5M</td>\n",
       "      <td>&lt;1M</td>\n",
       "      <td>200K - 400K</td>\n",
       "      <td>&lt;5K</td>\n",
       "    </tr>\n",
       "  </tbody>\n",
       "</table>\n",
       "</div>"
      ],
      "text/plain": [
       "    Barrio Comunas Ambientes Trimestre Rango_Pesos Rango_Dolares  \\\n",
       "0  ALMAGRO       5         1   SEGUNDO     1M - 5M           <1M   \n",
       "1  ALMAGRO       5         1   SEGUNDO     1M - 5M           <1M   \n",
       "2  ALMAGRO       5         1   SEGUNDO     1M - 5M           <1M   \n",
       "3  ALMAGRO       5         1   SEGUNDO     1M - 5M           <1M   \n",
       "4  ALMAGRO       5         1   SEGUNDO     1M - 5M           <1M   \n",
       "\n",
       "  Rango_PesosM2 Rango_DolaresM2  \n",
       "0   200K - 400K             <5K  \n",
       "1    50K - 200K             <5K  \n",
       "2    50K - 200K             <5K  \n",
       "3    50K - 200K             <5K  \n",
       "4   200K - 400K             <5K  "
      ]
     },
     "execution_count": 52,
     "metadata": {},
     "output_type": "execute_result"
    }
   ],
   "source": [
    "data.head()"
   ]
  },
  {
   "cell_type": "code",
   "execution_count": null,
   "id": "e98abfa7",
   "metadata": {},
   "outputs": [],
   "source": []
  },
  {
   "cell_type": "code",
   "execution_count": null,
   "id": "ab3c7f44",
   "metadata": {},
   "outputs": [],
   "source": []
  },
  {
   "cell_type": "markdown",
   "id": "83ac3df0",
   "metadata": {},
   "source": [
    "## Se exporta el dataset ya limpio y se guarda en la ruta especificada"
   ]
  },
  {
   "cell_type": "code",
   "execution_count": 53,
   "id": "d4c3a8be",
   "metadata": {},
   "outputs": [],
   "source": [
    "\n",
    "ruta = 'C:/Users/Tamara/Documents/DATA ANALYTICS/Proyectos/Departamentos en Venta/departamentos-en-venta-2020-clean.csv'\n",
    "\n",
    "data.to_csv(ruta, index=False)"
   ]
  },
  {
   "cell_type": "code",
   "execution_count": null,
   "id": "ffc0ad6a",
   "metadata": {},
   "outputs": [],
   "source": []
  },
  {
   "cell_type": "code",
   "execution_count": null,
   "id": "b7270a92",
   "metadata": {},
   "outputs": [],
   "source": []
  },
  {
   "cell_type": "code",
   "execution_count": null,
   "id": "72cc5949",
   "metadata": {},
   "outputs": [],
   "source": []
  },
  {
   "cell_type": "code",
   "execution_count": null,
   "id": "0fe47841",
   "metadata": {},
   "outputs": [],
   "source": []
  },
  {
   "cell_type": "code",
   "execution_count": null,
   "id": "2547d335",
   "metadata": {},
   "outputs": [],
   "source": []
  },
  {
   "cell_type": "code",
   "execution_count": null,
   "id": "2095edbf",
   "metadata": {},
   "outputs": [],
   "source": []
  },
  {
   "cell_type": "code",
   "execution_count": null,
   "id": "a24fb7c9",
   "metadata": {},
   "outputs": [],
   "source": []
  },
  {
   "cell_type": "code",
   "execution_count": null,
   "id": "1d48c14b",
   "metadata": {},
   "outputs": [],
   "source": []
  },
  {
   "cell_type": "code",
   "execution_count": null,
   "id": "d0e06c75",
   "metadata": {},
   "outputs": [],
   "source": []
  },
  {
   "cell_type": "code",
   "execution_count": null,
   "id": "01943a9c",
   "metadata": {},
   "outputs": [],
   "source": []
  }
 ],
 "metadata": {
  "kernelspec": {
   "display_name": "Python 3 (ipykernel)",
   "language": "python",
   "name": "python3"
  },
  "language_info": {
   "codemirror_mode": {
    "name": "ipython",
    "version": 3
   },
   "file_extension": ".py",
   "mimetype": "text/x-python",
   "name": "python",
   "nbconvert_exporter": "python",
   "pygments_lexer": "ipython3",
   "version": "3.9.13"
  }
 },
 "nbformat": 4,
 "nbformat_minor": 5
}
